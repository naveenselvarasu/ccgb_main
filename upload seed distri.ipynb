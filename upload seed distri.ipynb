{
 "cells": [
  {
   "cell_type": "code",
   "execution_count": 1,
   "metadata": {},
   "outputs": [
    {
     "data": {
      "text/plain": [
       "93"
      ]
     },
     "execution_count": 1,
     "metadata": {},
     "output_type": "execute_result"
    }
   ],
   "source": [
    "ComboIssueRequest.objects.filter().count()"
   ]
  },
  {
   "cell_type": "code",
   "execution_count": 17,
   "metadata": {},
   "outputs": [
    {
     "data": {
      "text/plain": [
       "156"
      ]
     },
     "execution_count": 17,
     "metadata": {},
     "output_type": "execute_result"
    }
   ],
   "source": [
    "ComboIssueRequestAgentMap.objects.filter(combo_issue_request__input_combo__inputpart__name__input_type_id=1).count()"
   ]
  },
  {
   "cell_type": "code",
   "execution_count": 68,
   "metadata": {},
   "outputs": [
    {
     "data": {
      "text/html": [
       "<div>\n",
       "<style scoped>\n",
       "    .dataframe tbody tr th:only-of-type {\n",
       "        vertical-align: middle;\n",
       "    }\n",
       "\n",
       "    .dataframe tbody tr th {\n",
       "        vertical-align: top;\n",
       "    }\n",
       "\n",
       "    .dataframe thead th {\n",
       "        text-align: right;\n",
       "    }\n",
       "</style>\n",
       "<table border=\"1\" class=\"dataframe\">\n",
       "  <thead>\n",
       "    <tr style=\"text-align: right;\">\n",
       "      <th></th>\n",
       "      <th>Sl. No</th>\n",
       "      <th>Rl. No</th>\n",
       "      <th>Request  Date</th>\n",
       "      <th>Dispatch Date</th>\n",
       "      <th>Agent Name</th>\n",
       "      <th>Village Name</th>\n",
       "      <th>Supervisor Name</th>\n",
       "      <th>Cluster Name</th>\n",
       "      <th>From</th>\n",
       "      <th>To</th>\n",
       "      <th>No of Packets</th>\n",
       "    </tr>\n",
       "  </thead>\n",
       "  <tbody>\n",
       "    <tr>\n",
       "      <th>0</th>\n",
       "      <td>1</td>\n",
       "      <td>1</td>\n",
       "      <td>25-02-2021</td>\n",
       "      <td>25-02-2021</td>\n",
       "      <td>M Parameshwaran</td>\n",
       "      <td>Gundlupet</td>\n",
       "      <td>prasad</td>\n",
       "      <td>Sargur</td>\n",
       "      <td>1</td>\n",
       "      <td>30</td>\n",
       "      <td>30</td>\n",
       "    </tr>\n",
       "    <tr>\n",
       "      <th>1</th>\n",
       "      <td>2</td>\n",
       "      <td>2</td>\n",
       "      <td>25-02-2021</td>\n",
       "      <td>25-02-2021</td>\n",
       "      <td>M Parameshwaran</td>\n",
       "      <td>Gundlupet</td>\n",
       "      <td>siddapa</td>\n",
       "      <td>HD Kote</td>\n",
       "      <td>31</td>\n",
       "      <td>70</td>\n",
       "      <td>40</td>\n",
       "    </tr>\n",
       "    <tr>\n",
       "      <th>2</th>\n",
       "      <td>3</td>\n",
       "      <td>3</td>\n",
       "      <td>25-02-2021</td>\n",
       "      <td>25-02-2021</td>\n",
       "      <td>Nandisha</td>\n",
       "      <td>Heerehalli</td>\n",
       "      <td>siddapa</td>\n",
       "      <td>HD Kote</td>\n",
       "      <td>71</td>\n",
       "      <td>90</td>\n",
       "      <td>20</td>\n",
       "    </tr>\n",
       "    <tr>\n",
       "      <th>3</th>\n",
       "      <td>4</td>\n",
       "      <td>4</td>\n",
       "      <td>25-02-2021</td>\n",
       "      <td>25-02-2021</td>\n",
       "      <td>Puttamallappa</td>\n",
       "      <td>Teranimunti</td>\n",
       "      <td>siddapa</td>\n",
       "      <td>Sargur</td>\n",
       "      <td>91</td>\n",
       "      <td>110</td>\n",
       "      <td>20</td>\n",
       "    </tr>\n",
       "    <tr>\n",
       "      <th>4</th>\n",
       "      <td>5</td>\n",
       "      <td>5</td>\n",
       "      <td>25-02-2021</td>\n",
       "      <td>25-02-2021</td>\n",
       "      <td>mahadevaprasad</td>\n",
       "      <td>Jakkahalli</td>\n",
       "      <td>siddapa</td>\n",
       "      <td>HD Kote</td>\n",
       "      <td>111</td>\n",
       "      <td>130</td>\n",
       "      <td>20</td>\n",
       "    </tr>\n",
       "    <tr>\n",
       "      <th>...</th>\n",
       "      <td>...</td>\n",
       "      <td>...</td>\n",
       "      <td>...</td>\n",
       "      <td>...</td>\n",
       "      <td>...</td>\n",
       "      <td>...</td>\n",
       "      <td>...</td>\n",
       "      <td>...</td>\n",
       "      <td>...</td>\n",
       "      <td>...</td>\n",
       "      <td>...</td>\n",
       "    </tr>\n",
       "    <tr>\n",
       "      <th>88</th>\n",
       "      <td>89</td>\n",
       "      <td>259</td>\n",
       "      <td>30-03-2021</td>\n",
       "      <td>30-03-2021</td>\n",
       "      <td>Mahendra</td>\n",
       "      <td>Berambadi</td>\n",
       "      <td>ajith</td>\n",
       "      <td>Berambadi</td>\n",
       "      <td>2907</td>\n",
       "      <td>2916</td>\n",
       "      <td>10</td>\n",
       "    </tr>\n",
       "    <tr>\n",
       "      <th>89</th>\n",
       "      <td>90</td>\n",
       "      <td>260</td>\n",
       "      <td>2-4-2021</td>\n",
       "      <td>2021-02-04 00:00:00</td>\n",
       "      <td>Nataraju</td>\n",
       "      <td>Sagade</td>\n",
       "      <td>naveen</td>\n",
       "      <td>Terakanambi</td>\n",
       "      <td>2917</td>\n",
       "      <td>2936</td>\n",
       "      <td>20</td>\n",
       "    </tr>\n",
       "    <tr>\n",
       "      <th>90</th>\n",
       "      <td>91</td>\n",
       "      <td>262</td>\n",
       "      <td>2021-02-04 00:00:00</td>\n",
       "      <td>2021-02-04 00:00:00</td>\n",
       "      <td>M Parameshwaran</td>\n",
       "      <td>Gundlupet</td>\n",
       "      <td>prasad</td>\n",
       "      <td>Sargur</td>\n",
       "      <td>2947</td>\n",
       "      <td>2966</td>\n",
       "      <td>20</td>\n",
       "    </tr>\n",
       "    <tr>\n",
       "      <th>91</th>\n",
       "      <td>92</td>\n",
       "      <td>263</td>\n",
       "      <td>2021-02-04 00:00:00</td>\n",
       "      <td>2021-02-04 00:00:00</td>\n",
       "      <td>Ravi M S</td>\n",
       "      <td>Magudilu</td>\n",
       "      <td>prasad</td>\n",
       "      <td>Sargur</td>\n",
       "      <td>2967</td>\n",
       "      <td>2976</td>\n",
       "      <td>10</td>\n",
       "    </tr>\n",
       "    <tr>\n",
       "      <th>92</th>\n",
       "      <td>93</td>\n",
       "      <td>268</td>\n",
       "      <td>2021-09-04 00:00:00</td>\n",
       "      <td>2021-09-04 00:00:00</td>\n",
       "      <td>Mahadevappa</td>\n",
       "      <td>Kandegala Hosuru</td>\n",
       "      <td>ajith</td>\n",
       "      <td>Berambadi</td>\n",
       "      <td>2977</td>\n",
       "      <td>2980</td>\n",
       "      <td>4</td>\n",
       "    </tr>\n",
       "  </tbody>\n",
       "</table>\n",
       "<p>93 rows × 11 columns</p>\n",
       "</div>"
      ],
      "text/plain": [
       "    Sl. No  Rl. No        Request  Date        Dispatch Date  \\\n",
       "0        1       1           25-02-2021           25-02-2021   \n",
       "1        2       2           25-02-2021           25-02-2021   \n",
       "2        3       3           25-02-2021           25-02-2021   \n",
       "3        4       4           25-02-2021           25-02-2021   \n",
       "4        5       5           25-02-2021           25-02-2021   \n",
       "..     ...     ...                  ...                  ...   \n",
       "88      89     259           30-03-2021           30-03-2021   \n",
       "89      90     260             2-4-2021  2021-02-04 00:00:00   \n",
       "90      91     262  2021-02-04 00:00:00  2021-02-04 00:00:00   \n",
       "91      92     263  2021-02-04 00:00:00  2021-02-04 00:00:00   \n",
       "92      93     268  2021-09-04 00:00:00  2021-09-04 00:00:00   \n",
       "\n",
       "          Agent Name      Village Name Supervisor Name Cluster Name  From  \\\n",
       "0   M Parameshwaran          Gundlupet          prasad       Sargur     1   \n",
       "1   M Parameshwaran          Gundlupet         siddapa      HD Kote    31   \n",
       "2           Nandisha        Heerehalli         siddapa      HD Kote    71   \n",
       "3      Puttamallappa       Teranimunti         siddapa       Sargur    91   \n",
       "4     mahadevaprasad        Jakkahalli         siddapa      HD Kote   111   \n",
       "..               ...               ...             ...          ...   ...   \n",
       "88          Mahendra         Berambadi           ajith    Berambadi  2907   \n",
       "89          Nataraju            Sagade          naveen  Terakanambi  2917   \n",
       "90  M Parameshwaran          Gundlupet          prasad       Sargur  2947   \n",
       "91          Ravi M S          Magudilu          prasad       Sargur  2967   \n",
       "92       Mahadevappa  Kandegala Hosuru           ajith    Berambadi  2977   \n",
       "\n",
       "      To  No of Packets  \n",
       "0     30             30  \n",
       "1     70             40  \n",
       "2     90             20  \n",
       "3    110             20  \n",
       "4    130             20  \n",
       "..   ...            ...  \n",
       "88  2916             10  \n",
       "89  2936             20  \n",
       "90  2966             20  \n",
       "91  2976             10  \n",
       "92  2980              4  \n",
       "\n",
       "[93 rows x 11 columns]"
      ]
     },
     "execution_count": 68,
     "metadata": {},
     "output_type": "execute_result"
    }
   ],
   "source": [
    "import pandas as pd\n",
    "half_acre_df = pd.read_excel (r'Agents Seed Distrubution details (1) (1).xlsx')\n",
    "half_acre_df"
   ]
  },
  {
   "cell_type": "code",
   "execution_count": 71,
   "metadata": {},
   "outputs": [
    {
     "ename": "DoesNotExist",
     "evalue": "User matching query does not exist.",
     "output_type": "error",
     "traceback": [
      "\u001b[0;31m---------------------------------------------------------------------------\u001b[0m",
      "\u001b[0;31mDoesNotExist\u001b[0m                              Traceback (most recent call last)",
      "\u001b[0;32m<ipython-input-71-7c276adcf525>\u001b[0m in \u001b[0;36m<module>\u001b[0;34m\u001b[0m\n\u001b[1;32m      1\u001b[0m \u001b[0;32mfor\u001b[0m \u001b[0mindex\u001b[0m\u001b[0;34m,\u001b[0m \u001b[0mrow\u001b[0m \u001b[0;32min\u001b[0m \u001b[0mhalf_acre_df\u001b[0m\u001b[0;34m.\u001b[0m\u001b[0miterrows\u001b[0m\u001b[0;34m(\u001b[0m\u001b[0;34m)\u001b[0m\u001b[0;34m:\u001b[0m\u001b[0;34m\u001b[0m\u001b[0;34m\u001b[0m\u001b[0m\n\u001b[0;32m----> 2\u001b[0;31m     \u001b[0mprint\u001b[0m\u001b[0;34m(\u001b[0m\u001b[0mUser\u001b[0m\u001b[0;34m.\u001b[0m\u001b[0mobjects\u001b[0m\u001b[0;34m.\u001b[0m\u001b[0mget\u001b[0m\u001b[0;34m(\u001b[0m\u001b[0mfirst_name\u001b[0m\u001b[0;34m=\u001b[0m\u001b[0mrow\u001b[0m\u001b[0;34m[\u001b[0m\u001b[0;34m'Agent Name'\u001b[0m\u001b[0;34m]\u001b[0m\u001b[0;34m)\u001b[0m\u001b[0;34m.\u001b[0m\u001b[0musername\u001b[0m\u001b[0;34m)\u001b[0m\u001b[0;34m\u001b[0m\u001b[0;34m\u001b[0m\u001b[0m\n\u001b[0m",
      "\u001b[0;32m~/Softwares/virtualenv/ccgb/lib/python3.8/site-packages/django/db/models/manager.py\u001b[0m in \u001b[0;36mmanager_method\u001b[0;34m(self, *args, **kwargs)\u001b[0m\n\u001b[1;32m     83\u001b[0m         \u001b[0;32mdef\u001b[0m \u001b[0mcreate_method\u001b[0m\u001b[0;34m(\u001b[0m\u001b[0mname\u001b[0m\u001b[0;34m,\u001b[0m \u001b[0mmethod\u001b[0m\u001b[0;34m)\u001b[0m\u001b[0;34m:\u001b[0m\u001b[0;34m\u001b[0m\u001b[0;34m\u001b[0m\u001b[0m\n\u001b[1;32m     84\u001b[0m             \u001b[0;32mdef\u001b[0m \u001b[0mmanager_method\u001b[0m\u001b[0;34m(\u001b[0m\u001b[0mself\u001b[0m\u001b[0;34m,\u001b[0m \u001b[0;34m*\u001b[0m\u001b[0margs\u001b[0m\u001b[0;34m,\u001b[0m \u001b[0;34m**\u001b[0m\u001b[0mkwargs\u001b[0m\u001b[0;34m)\u001b[0m\u001b[0;34m:\u001b[0m\u001b[0;34m\u001b[0m\u001b[0;34m\u001b[0m\u001b[0m\n\u001b[0;32m---> 85\u001b[0;31m                 \u001b[0;32mreturn\u001b[0m \u001b[0mgetattr\u001b[0m\u001b[0;34m(\u001b[0m\u001b[0mself\u001b[0m\u001b[0;34m.\u001b[0m\u001b[0mget_queryset\u001b[0m\u001b[0;34m(\u001b[0m\u001b[0;34m)\u001b[0m\u001b[0;34m,\u001b[0m \u001b[0mname\u001b[0m\u001b[0;34m)\u001b[0m\u001b[0;34m(\u001b[0m\u001b[0;34m*\u001b[0m\u001b[0margs\u001b[0m\u001b[0;34m,\u001b[0m \u001b[0;34m**\u001b[0m\u001b[0mkwargs\u001b[0m\u001b[0;34m)\u001b[0m\u001b[0;34m\u001b[0m\u001b[0;34m\u001b[0m\u001b[0m\n\u001b[0m\u001b[1;32m     86\u001b[0m             \u001b[0mmanager_method\u001b[0m\u001b[0;34m.\u001b[0m\u001b[0m__name__\u001b[0m \u001b[0;34m=\u001b[0m \u001b[0mmethod\u001b[0m\u001b[0;34m.\u001b[0m\u001b[0m__name__\u001b[0m\u001b[0;34m\u001b[0m\u001b[0;34m\u001b[0m\u001b[0m\n\u001b[1;32m     87\u001b[0m             \u001b[0mmanager_method\u001b[0m\u001b[0;34m.\u001b[0m\u001b[0m__doc__\u001b[0m \u001b[0;34m=\u001b[0m \u001b[0mmethod\u001b[0m\u001b[0;34m.\u001b[0m\u001b[0m__doc__\u001b[0m\u001b[0;34m\u001b[0m\u001b[0;34m\u001b[0m\u001b[0m\n",
      "\u001b[0;32m~/Softwares/virtualenv/ccgb/lib/python3.8/site-packages/django/db/models/query.py\u001b[0m in \u001b[0;36mget\u001b[0;34m(self, *args, **kwargs)\u001b[0m\n\u001b[1;32m    376\u001b[0m             \u001b[0;32mreturn\u001b[0m \u001b[0mclone\u001b[0m\u001b[0;34m.\u001b[0m\u001b[0m_result_cache\u001b[0m\u001b[0;34m[\u001b[0m\u001b[0;36m0\u001b[0m\u001b[0;34m]\u001b[0m\u001b[0;34m\u001b[0m\u001b[0;34m\u001b[0m\u001b[0m\n\u001b[1;32m    377\u001b[0m         \u001b[0;32mif\u001b[0m \u001b[0;32mnot\u001b[0m \u001b[0mnum\u001b[0m\u001b[0;34m:\u001b[0m\u001b[0;34m\u001b[0m\u001b[0;34m\u001b[0m\u001b[0m\n\u001b[0;32m--> 378\u001b[0;31m             raise self.model.DoesNotExist(\n\u001b[0m\u001b[1;32m    379\u001b[0m                 \u001b[0;34m\"%s matching query does not exist.\"\u001b[0m \u001b[0;34m%\u001b[0m\u001b[0;34m\u001b[0m\u001b[0;34m\u001b[0m\u001b[0m\n\u001b[1;32m    380\u001b[0m                 \u001b[0mself\u001b[0m\u001b[0;34m.\u001b[0m\u001b[0mmodel\u001b[0m\u001b[0;34m.\u001b[0m\u001b[0m_meta\u001b[0m\u001b[0;34m.\u001b[0m\u001b[0mobject_name\u001b[0m\u001b[0;34m\u001b[0m\u001b[0;34m\u001b[0m\u001b[0m\n",
      "\u001b[0;31mDoesNotExist\u001b[0m: User matching query does not exist."
     ]
    }
   ],
   "source": [
    "for index, row in half_acre_df.iterrows():\n",
    "    print(User.objects.get(first_name=row['Agent Name']).username)"
   ]
  },
  {
   "cell_type": "markdown",
   "metadata": {},
   "source": [
    "# ============================"
   ]
  },
  {
   "cell_type": "markdown",
   "metadata": {},
   "source": [
    "### 1. remove all the seed issue request\n",
    "### 2. Reset code bank and Add 50 grams request with approval and 100 grams\n",
    "### 3. Reset all the inventoty\n",
    "### 4. upload and check the agent issues and same for 100 grams "
   ]
  },
  {
   "cell_type": "markdown",
   "metadata": {},
   "source": [
    "# ============================"
   ]
  },
  {
   "cell_type": "markdown",
   "metadata": {},
   "source": [
    "##  remove all the seed issue request"
   ]
  },
  {
   "cell_type": "code",
   "execution_count": 25,
   "metadata": {},
   "outputs": [
    {
     "data": {
      "text/plain": [
       "(0, {})"
      ]
     },
     "execution_count": 25,
     "metadata": {},
     "output_type": "execute_result"
    }
   ],
   "source": [
    "ComboIssueRequest.objects.filter(input_combo__inputpart__name__input_type_id=1).delete()"
   ]
  },
  {
   "cell_type": "markdown",
   "metadata": {},
   "source": [
    "## Reset code bank and Add 50 grams request with approval and 100 grams"
   ]
  },
  {
   "cell_type": "code",
   "execution_count": 29,
   "metadata": {},
   "outputs": [
    {
     "data": {
      "text/plain": [
       "2"
      ]
     },
     "execution_count": 29,
     "metadata": {},
     "output_type": "execute_result"
    }
   ],
   "source": [
    "ComboIssueRequestCodeBank.objects.filter(input_combo_id__in=[8,9]).update(last_digit=0)"
   ]
  },
  {
   "cell_type": "code",
   "execution_count": null,
   "metadata": {},
   "outputs": [],
   "source": [
    "combo_request_obj = ComboIssueRequest(\n",
    "    request_code=generate_request_code(9),\n",
    "    season_id=3,\n",
    "    input_combo_id=9,\n",
    "    quantity_in_numbers=0,\n",
    "    quantity_for_area=0,\n",
    "    expected_date=row['Request Date'],\n",
    "    issue_rised_date=row['Request Date'],\n",
    "    max_status_id=2,\n",
    "    max_status_date=row['Request Date'],\n",
    "    supervisor_id=)\n",
    "combo_request_obj.save()"
   ]
  },
  {
   "cell_type": "code",
   "execution_count": 24,
   "metadata": {},
   "outputs": [],
   "source": [
    "def generate_request_code(input_combo_id):\n",
    "    code_bank_obj = ComboIssueRequestCodeBank.objects.filter(input_combo_id=input_combo_id)[0]\n",
    "    last_digit_code = code_bank_obj.last_digit\n",
    "    new_code = last_digit_code + 1\n",
    "    value = str(code_bank_obj.input_combo.name) + str(new_code).zfill(3)\n",
    "    code_bank_obj.last_digit = new_code\n",
    "    code_bank_obj.save()\n",
    "    return value"
   ]
  },
  {
   "cell_type": "code",
   "execution_count": 46,
   "metadata": {},
   "outputs": [
    {
     "data": {
      "text/plain": [
       "<QuerySet ['Terakanambi', 'Yadalaya', 'HD Kote', 'Nanjangud', 'Baragi', 'Sargur', 'Talavadi', 'masinakudi', 'gopalpura', 'kodasoge', 'Arakalavadi']>"
      ]
     },
     "execution_count": 46,
     "metadata": {},
     "output_type": "execute_result"
    }
   ],
   "source": [
    "Cluster.objects.filter().values_list('name',flat=True)"
   ]
  },
  {
   "cell_type": "code",
   "execution_count": 62,
   "metadata": {},
   "outputs": [
    {
     "data": {
      "text/plain": [
       "<QuerySet [<User: madappa>]>"
      ]
     },
     "execution_count": 62,
     "metadata": {},
     "output_type": "execute_result"
    }
   ],
   "source": [
    "User.objects.filter(username=\"madappa\")"
   ]
  },
  {
   "cell_type": "code",
   "execution_count": null,
   "metadata": {},
   "outputs": [],
   "source": []
  }
 ],
 "metadata": {
  "kernelspec": {
   "display_name": "Django Shell-Plus",
   "language": "python",
   "name": "django_extensions"
  },
  "language_info": {
   "codemirror_mode": {
    "name": "ipython",
    "version": 3
   },
   "file_extension": ".py",
   "mimetype": "text/x-python",
   "name": "python",
   "nbconvert_exporter": "python",
   "pygments_lexer": "ipython3",
   "version": "3.9.7"
  }
 },
 "nbformat": 4,
 "nbformat_minor": 4
}
