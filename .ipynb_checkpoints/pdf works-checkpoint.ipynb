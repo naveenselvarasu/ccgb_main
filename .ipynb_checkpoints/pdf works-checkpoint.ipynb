{
 "cells": [
  {
   "cell_type": "code",
   "execution_count": 36,
   "metadata": {},
   "outputs": [],
   "source": [
    "from reportlab.pdfgen import canvas\n",
    "from reportlab.platypus import BaseDocTemplate, SimpleDocTemplate, Paragraph, Spacer, Table, TableStyle\n",
    "from reportlab.lib.styles import getSampleStyleSheet\n",
    "from reportlab.lib.pagesizes import letter, A4\n",
    "from reportlab.lib.units import inch\n",
    "from reportlab.lib import colors\n",
    "from reportlab.lib.colors import HexColor\n",
    "from reportlab.pdfbase import pdfmetrics\n",
    "from reportlab.pdfbase.ttfonts import TTFont\n",
    "import datetime\n",
    "import os"
   ]
  },
  {
   "cell_type": "code",
   "execution_count": 37,
   "metadata": {},
   "outputs": [],
   "source": [
    "def generate_issue_notice_bill_no():\n",
    "    bill_obj = AgentIssueNoticeNumberCodeBank.objects.get(id=1)\n",
    "    updated_bill_no = bill_obj.last_bill_number + 1\n",
    "    bill_obj.last_bill_number = updated_bill_no\n",
    "    bill_obj.save()\n",
    "    return updated_bill_no"
   ]
  },
  {
   "cell_type": "code",
   "execution_count": 141,
   "metadata": {},
   "outputs": [
    {
     "data": {
      "text/plain": [
       "'18 Apr 2021 - 08:05 AM'"
      ]
     },
     "execution_count": 141,
     "metadata": {},
     "output_type": "execute_result"
    }
   ],
   "source": [
    "issue_id = 144\n",
    "agent_id = 139\n",
    "season_id = 3\n",
    "issue_agent_obj = ComboIssueRequestAgentMap.objects.get(id=issue_id, agent_id=agent_id)\n",
    "data_dict = {}\n",
    "data_dict['bill_number'] = generate_issue_notice_bill_no()\n",
    "data_dict['agent_name'] = issue_agent_obj.agent.first_name\n",
    "data_dict['father_name'] = issue_agent_obj.agent.last_name\n",
    "data_dict['superior_name'] = issue_agent_obj.combo_issue_request.supervisor.username\n",
    "data_dict['agent_code'] = UserProfile.objects.get(user_id=issue_agent_obj.agent.id).code\n",
    "data_dict['village_name'] = UserProfile.objects.get(user_id=issue_agent_obj.agent.id).village.name\n",
    "data_dict['cluster_name'] = UserClusterMap.objects.get(season_id=3, user_id=issue_agent_obj.agent.id).cluster.name\n",
    "if issue_agent_obj.shop.type.id == 2:\n",
    "    data_dict['dispatch_from'] = issue_agent_obj.delivery_from\n",
    "    data_dict['dispatch_to'] = issue_agent_obj.delivery_to\n",
    "else:\n",
    "    data_dict['dispatch_from'] = '-'\n",
    "    data_dict['dispatch_to'] = '-'\n",
    "data_dict['shop'] = issue_agent_obj.shop.name\n",
    "data_dict['item_name'] = issue_agent_obj.combo_issue_request.input_combo.name\n",
    "data_dict['requested_date'] = issue_agent_obj.combo_issue_request.issue_rised_date.date()\n",
    "data_dict['quantity_in_pkts'] = issue_agent_obj.quantity_in_numbers\n",
    "data_dict['expected_date'] = str(issue_agent_obj.combo_issue_request.expected_date.date())\n",
    "\n",
    "data_dict['senior_supervisor'] = issue_agent_obj.combo_issue_request.senior_supervisor.username\n",
    "data_dict['senior_supervisor_date'] = datetime.datetime.strptime(str(issue_agent_obj.combo_issue_request.senior_supervisor_status_date).split('+')[0], '%Y-%m-%d %I:%M:%S.%f').strftime('%d %b %Y - %I:%M %p')\n",
    "\n",
    "data_dict['asst_manager'] = issue_agent_obj.combo_issue_request.assitant_manager.username\n",
    "data_dict['asst_manager_date'] = datetime.datetime.strptime(str(issue_agent_obj.combo_issue_request.assitant_manager_status_date).split('+')[0], '%Y-%m-%d %I:%M:%S.%f').strftime('%d %b %Y - %I:%M %p')\n",
    "\n",
    "\n",
    "data_dict['agri_officer'] = issue_agent_obj.combo_issue_request.agri_officer.username\n",
    "data_dict['agri_officer_date'] = datetime.datetime.strptime(str(issue_agent_obj.combo_issue_request.agri_officer_status_date).split('+')[0], '%Y-%m-%d %I:%M:%S.%f').strftime('%d %b %Y - %I:%M %p')\n",
    "\n",
    "\n",
    "\n",
    "data_dict['gm'] = issue_agent_obj.combo_issue_request.agri_officer.username\n",
    "\n",
    "data_dict['gm_date'] = datetime.datetime.strptime(str(issue_agent_obj.combo_issue_request.agri_officer_status_date).split('+')[0], '%Y-%m-%d %I:%M:%S.%f').strftime('%d %b %Y - %I:%M %p')\n",
    "\n",
    "datetime.datetime.strptime(str(issue_agent_obj.combo_issue_request.agri_officer_status_date).split('+')[0], '%Y-%m-%d %I:%M:%S.%f').strftime('%d %b %Y - %I:%M %p')"
   ]
  },
  {
   "cell_type": "code",
   "execution_count": 154,
   "metadata": {},
   "outputs": [
    {
     "name": "stdout",
     "output_type": "stream",
     "text": [
      "already created\n"
     ]
    }
   ],
   "source": [
    "today_date = datetime.datetime.now().date()\n",
    "file_name = 'issue_notice_'+ \"data_dict['bill_number']\" + '.pdf'\n",
    "try:\n",
    "    path = os.path.join('static/media/agent_issue_notice/', str(agent_id), str(today_date))\n",
    "    os.makedirs(path)\n",
    "except FileExistsError:\n",
    "    print('already created')\n",
    "file_path = os.path.join('static/media/agent_issue_notice/' + str(agent_id) + '/' + str(today_date) + '/',file_name)\n",
    "\n",
    "# file generation\n",
    "mycanvas = canvas.Canvas(file_path, pagesize=A4)\n",
    "\n",
    "#border line\n",
    "mycanvas.line(25,820,570,820)\n",
    "mycanvas.line(25,20,570,20)\n",
    "mycanvas.line(25,820,25,20)\n",
    "mycanvas.line(570,820,570,20)\n",
    "img_file = os.path.join('static/media/',\"ccgb_logo.jpeg\")\n",
    "mycanvas.drawInlineImage(img_file, 40, 760,(.6*inch), (.8*inch))\n",
    "\n",
    "\n",
    "#heading part\n",
    "mycanvas.setFont('Helvetica-Bold', 17)\n",
    "mycanvas.drawCentredString(325, 800,'CHENGUANG NATURAL EXTRACTS (INDIA) PVT.LTD.,')\n",
    "mycanvas.setFont('Helvetica', 12)\n",
    "mycanvas.drawCentredString(305, 780,'SY.No.251,Thriyambakapura Village,Terakanambi Hobali,Gundlupet Taluk,')\n",
    "mycanvas.setFont('Helvetica', 13)\n",
    "mycanvas.drawCentredString(305, 760,'Chamarajanagar District')\n",
    "mycanvas.setFont('Helvetica-Bold', 17)\n",
    "mycanvas.drawCentredString(305, 735,'AGENT ISSUE NOTICE')\n",
    "\n",
    "#left Side\n",
    "mycanvas.setFont('Helvetica', 12)\n",
    "mycanvas.drawString(40,700,str('R.No. ')+str(data_dict['bill_number']))\n",
    "mycanvas.drawString(40,670,str('Agent Name: ')+str(data_dict['agent_name']))\n",
    "mycanvas.drawString(40,640,str('Father Name: ')+str(data_dict['father_name']))\n",
    "mycanvas.drawString(40,610,str('Supervisor Name: ')+str(data_dict['superior_name']))\n",
    "mycanvas.drawString(40,580,str('Permission department: '))\n",
    "mycanvas.drawString(40,550,str('Shop: ')+str(data_dict['shop']))\n",
    "mycanvas.drawString(40,520,str('Dispatch from: ')+str(data_dict['dispatch_from']))\n",
    "# mycanvas.drawString(40,490,str('Shop: ')+str(data_dict['superior_name']))\n",
    "\n",
    "\n",
    "#Right Side\n",
    "mycanvas.setFont('Helvetica', 12)\n",
    "mycanvas.drawString(350,700,str('Date: ')+str(datetime.datetime.now().date()))\n",
    "mycanvas.drawString(350,670,str('Agent Code: ')+str(data_dict['agent_code']))\n",
    "mycanvas.drawString(350,640,str('Village Name: ')+str(data_dict['village_name']))\n",
    "mycanvas.drawString(350,610,str('Cluster: ')+str(data_dict['cluster_name']))\n",
    "mycanvas.drawString(350,580,str('Out Time: '))\n",
    "mycanvas.drawString(350,550,str('Vehicle No: '))\n",
    "mycanvas.drawString(350,520,str('Dispatch to: ')+str(data_dict['dispatch_from']))\n",
    "\n",
    "\n",
    "\n",
    "#item details\n",
    "mycanvas.setFont('Helvetica-Bold', 15)\n",
    "mycanvas.drawCentredString(305, 490,'Item Details')\n",
    "\n",
    "# left side\n",
    "mycanvas.setFont('Helvetica', 12)\n",
    "mycanvas.drawString(40,470,str('Item Name: ')+str(data_dict['item_name']))\n",
    "mycanvas.drawString(40,440,str('Requested date: ')+str(data_dict['requested_date']))\n",
    "\n",
    "# right side\n",
    "mycanvas.drawString(350,470,str('Quantity: ')+str(data_dict['quantity_in_pkts']))\n",
    "mycanvas.drawString(350,440,str('Expected date: ')+str(data_dict['expected_date']))\n",
    "\n",
    "#approval details\n",
    "mycanvas.setFont('Helvetica-Bold', 15)\n",
    "mycanvas.drawCentredString(305, 415,'Approval Details')\n",
    "\n",
    "mycanvas.setFont('Helvetica', 12)\n",
    "# left side\n",
    "mycanvas.drawString(40,390,str('Sen. Supervisor: ')+str(data_dict['senior_supervisor']))\n",
    "mycanvas.drawString(40,365,str('Agri manager: ')+str(data_dict['asst_manager']))\n",
    "mycanvas.drawString(40,340,str('Agri office: ')+str(data_dict['agri_officer']))\n",
    "mycanvas.drawString(40,315,str('General Manager: ')+str(data_dict['gm']))\n",
    "\n",
    "\n",
    "# right side\n",
    "mycanvas.drawString(350,390,str(data_dict['senior_supervisor_date']))\n",
    "mycanvas.drawString(350,365,str(data_dict['asst_manager_date']))\n",
    "mycanvas.drawString(350,340,str(data_dict['agri_officer_date']))\n",
    "mycanvas.drawString(350,315,str(data_dict['gm_date']))\n",
    "\n",
    "\n",
    "file_name = str(data_dict['superior_name']) + '.jpeg'\n",
    "sup_file = os.path.join('static/media/signs/',file_name)\n",
    "mycanvas.drawInlineImage(sup_file, 180, 200,(1.4*inch), (.7*inch))\n",
    "gm_img_file = os.path.join('static/media/signs/',\"gm.png\")\n",
    "mycanvas.drawInlineImage(gm_img_file, 460, 200,(1.4*inch), (.7*inch))\n",
    "\n",
    "mycanvas.setFont('Helvetica', 12)\n",
    "mycanvas.drawRightString(130,  190, str('Agent Signature'))\n",
    "mycanvas.drawRightString(280,  190, str('Supervisor Signature'))\n",
    "mycanvas.drawRightString(410,  190, str('Issued Signature'))\n",
    "mycanvas.drawRightString(530,  190, str('GM Signature'))\n",
    "\n",
    "mycanvas.save()\n"
   ]
  },
  {
   "cell_type": "code",
   "execution_count": 10,
   "metadata": {},
   "outputs": [
    {
     "data": {
      "text/plain": [
       "{'bill_no': 4,\n",
       " 'agent_name': 'Gopala H',\n",
       " 'father_name': 'Hanumaiah',\n",
       " 'superior_name': 'Ajith',\n",
       " 'agent_code': 'AY009',\n",
       " 'village_name': 'Bankahalli',\n",
       " 'cluster_name': 'Nanjangud'}"
      ]
     },
     "execution_count": 10,
     "metadata": {},
     "output_type": "execute_result"
    }
   ],
   "source": []
  },
  {
   "cell_type": "code",
   "execution_count": 6,
   "metadata": {},
   "outputs": [],
   "source": []
  },
  {
   "cell_type": "code",
   "execution_count": 8,
   "metadata": {},
   "outputs": [
    {
     "data": {
      "text/plain": [
       "2"
      ]
     },
     "execution_count": 8,
     "metadata": {},
     "output_type": "execute_result"
    }
   ],
   "source": []
  },
  {
   "cell_type": "code",
   "execution_count": 33,
   "metadata": {},
   "outputs": [
    {
     "data": {
      "text/plain": [
       "<QuerySet [{'id': 1, 'name': 'agri'}, {'id': 2, 'name': 'direct delivery'}, {'id': 3, 'name': 'External shops'}]>"
      ]
     },
     "execution_count": 33,
     "metadata": {},
     "output_type": "execute_result"
    }
   ],
   "source": [
    "ShopType.objects.filter().values()"
   ]
  },
  {
   "cell_type": "code",
   "execution_count": null,
   "metadata": {},
   "outputs": [],
   "source": []
  }
 ],
 "metadata": {
  "kernelspec": {
   "display_name": "Django Shell-Plus",
   "language": "python",
   "name": "django_extensions"
  },
  "language_info": {
   "codemirror_mode": {
    "name": "ipython",
    "version": 3
   },
   "file_extension": ".py",
   "mimetype": "text/x-python",
   "name": "python",
   "nbconvert_exporter": "python",
   "pygments_lexer": "ipython3",
   "version": "3.8.6"
  }
 },
 "nbformat": 4,
 "nbformat_minor": 4
}
