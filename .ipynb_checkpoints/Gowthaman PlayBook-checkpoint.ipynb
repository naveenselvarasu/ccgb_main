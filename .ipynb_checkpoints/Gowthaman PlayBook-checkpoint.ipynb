{
 "cells": [
  {
   "cell_type": "code",
   "execution_count": 4,
   "metadata": {},
   "outputs": [],
   "source": [
    "# Add another Season\n",
    "season = Season.objects.get(id=1)\n",
    "season.name = '2019-Marigold-01'\n",
    "season.year = \"2019-01-01\"\n",
    "season.start_date = \"2019-03-01\"\n",
    "season.end_date = \"2019-07-31\"\n",
    "season.ordinal = 1\n",
    "season.save()\n",
    "season.pk = None\n",
    "season.name = '2020-Marigold-01'\n",
    "season.year = \"2020-01-01\"\n",
    "season.start_date = \"2020-03-01\"\n",
    "season.end_date = \"2020-07-31\"\n",
    "season.ordinal = 2\n",
    "season.save()"
   ]
  },
  {
   "cell_type": "code",
   "execution_count": 5,
   "metadata": {},
   "outputs": [],
   "source": [
    "# pl migrate the app"
   ]
  },
  {
   "cell_type": "code",
   "execution_count": 10,
   "metadata": {},
   "outputs": [
    {
     "data": {
      "text/plain": [
       "<QuerySet []>"
      ]
     },
     "execution_count": 10,
     "metadata": {},
     "output_type": "execute_result"
    }
   ],
   "source": [
    "# Remove unwanted Input Items\n",
    "InputItem.objects.filter(id__gte=3).delete()\n",
    "InputItem.objects.filter(id__gte=3)"
   ]
  },
  {
   "cell_type": "code",
   "execution_count": 3,
   "metadata": {},
   "outputs": [],
   "source": [
    "# adjust the InputItem table values\n",
    "ii = InputItem.objects.get(id=1)\n",
    "ii.name = 'HalfAcSeed'\n",
    "ii.value=.050\n",
    "ii.save()\n",
    "# duplicate it\n",
    "ii.pk = None\n",
    "ii.season_id=2\n",
    "ii.save()\n",
    "\n",
    "\n",
    "ii = InputItem.objects.get(id=2)\n",
    "ii.name = 'OneAcSeed'\n",
    "ii.value=.100\n",
    "ii.save()\n",
    "# duplicate it\n",
    "ii.pk = None\n",
    "ii.season_id=2\n",
    "ii.save()"
   ]
  },
  {
   "cell_type": "code",
   "execution_count": null,
   "metadata": {},
   "outputs": [],
   "source": []
  }
 ],
 "metadata": {
  "kernelspec": {
   "display_name": "Django Shell-Plus",
   "language": "python",
   "name": "django_extensions"
  },
  "language_info": {
   "codemirror_mode": {
    "name": "ipython",
    "version": 3
   },
   "file_extension": ".py",
   "mimetype": "text/x-python",
   "name": "python",
   "nbconvert_exporter": "python",
   "pygments_lexer": "ipython3",
   "version": "3.6.5"
  }
 },
 "nbformat": 4,
 "nbformat_minor": 4
}
