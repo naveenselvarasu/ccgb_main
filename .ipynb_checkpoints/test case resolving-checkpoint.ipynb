{
 "cells": [
  {
   "cell_type": "code",
   "execution_count": 2,
   "metadata": {},
   "outputs": [
    {
     "name": "stdout",
     "output_type": "stream",
     "text": [
      "To check cluster and supervisor count\n"
     ]
    },
    {
     "data": {
      "text/plain": [
       "True"
      ]
     },
     "execution_count": 2,
     "metadata": {},
     "output_type": "execute_result"
    }
   ],
   "source": [
    "season_id = 3\n",
    "# 1. To check cluster and supervisor count\n",
    "def cluster_supervisor_count():\n",
    "    try:\n",
    "        print('To check cluster and supervisor count')\n",
    "        cluster_count = ClusterSeasonMap.objects.filter(season_id=season_id).count()\n",
    "#         print('cluster_count:', cluster_count)\n",
    "\n",
    "        superviosr_count = UserClusterMap.objects.filter(season_id=season_id, user__userprofile__user_type_id=5).count()\n",
    "#         print('superviosr_count:', superviosr_count)\n",
    "\n",
    "        if cluster_count != superviosr_count:\n",
    "            result = False\n",
    "        else:\n",
    "            result = True\n",
    "    except Exception as error:\n",
    "        print(error)\n",
    "\n",
    "    return result\n",
    "\n",
    "cluster_supervisor_count()"
   ]
  },
  {
   "cell_type": "code",
   "execution_count": 3,
   "metadata": {},
   "outputs": [
    {
     "name": "stdout",
     "output_type": "stream",
     "text": [
      "To check agent_count_in_cluster_and_supervisor\n",
      "count_not matched, superviosr_agent_count: 5 cluster_agent_count: 6\n",
      "Completed\n"
     ]
    }
   ],
   "source": [
    "# 2. To check agent count in cluster and superviosr\n",
    "def agent_count_in_cluster_and_supervisor():\n",
    "    try:\n",
    "        print('To check agent_count_in_cluster_and_supervisor')\n",
    "        supervisor_ids = list(UserClusterMap.objects.filter(season_id=season_id, user__userprofile__user_type_id=5).values_list('user_id',flat=True))\n",
    "        supervisor_ids\n",
    "\n",
    "        for supervisor_id in supervisor_ids:\n",
    "            superviosr_agent_count = AgentSupervisorSeasonMap.objects.filter(season_id=3, supervisor_id=supervisor_id).count()\n",
    "            cluster_id = UserClusterMap.objects.get(season_id=3, user_id=supervisor_id).cluster_id\n",
    "            cluster_agent_count = UserClusterMap.objects.filter(season_id=3, cluster_id=cluster_id, user__userprofile__user_type_id=6).count()\n",
    "            if superviosr_agent_count != cluster_agent_count:\n",
    "                print('count_not matched,', 'superviosr_agent_count:', superviosr_agent_count, 'cluster_agent_count:',cluster_agent_count)\n",
    "        print('Completed')\n",
    "    except Exception as error:\n",
    "        print(error)\n",
    "agent_count_in_cluster_and_supervisor()"
   ]
  },
  {
   "cell_type": "code",
   "execution_count": 138,
   "metadata": {},
   "outputs": [
    {
     "name": "stdout",
     "output_type": "stream",
     "text": [
      "To check Total cluster and superviosr farmer count\n",
      "total_cluster_farmer_count: 4513\n",
      "total_superviosr_farmer_count: 4513\n",
      "farmer count matched\n"
     ]
    }
   ],
   "source": [
    "# # 3. To check Total cluster and superviosr farmer count\n",
    "def total_cluster_and_superviosr_farmer_count():\n",
    "    print('To check Total cluster and superviosr farmer count')\n",
    "    season_id =3\n",
    "\n",
    "    cluster_ids = list(ClusterSeasonMap.objects.filter(season_id=season_id).values_list('cluster_id', flat=True))\n",
    "    superviosr_ids = list(UserClusterMap.objects.filter(season_id=season_id, user__userprofile__user_type_id=5).values_list('user_id', flat=True))\n",
    "\n",
    "    total_cluster_farmer_count = FarmerClusterSeasonMap.objects.filter(season_id=3, cluster_id__in=cluster_ids).count()\n",
    "    print('total_cluster_farmer_count:',total_cluster_farmer_count)\n",
    "\n",
    "    total_superviosr_farmer_count = UserFarmerMap.objects.filter(farmer__season_id=season_id, officer_id__in=superviosr_ids).count()\n",
    "    print('total_superviosr_farmer_count:', total_superviosr_farmer_count)\n",
    "\n",
    "    if total_cluster_farmer_count != total_superviosr_farmer_count:\n",
    "        print('farmer_count mis matched')\n",
    "    else:\n",
    "        print('farmer count matched')\n",
    "total_cluster_and_superviosr_farmer_count()"
   ]
  },
  {
   "cell_type": "code",
   "execution_count": 139,
   "metadata": {},
   "outputs": [
    {
     "name": "stdout",
     "output_type": "stream",
     "text": [
      "To check individual cluster and supervior count\n"
     ]
    }
   ],
   "source": [
    "# # 4. To check individual cluster and supervior count\n",
    "def check_individual_cluster_and_supervior_count():\n",
    "    print('To check individual cluster and supervior count')\n",
    "    season_id =3\n",
    "    cluster_ids = list(ClusterSeasonMap.objects.filter(season_id=season_id).values_list('cluster_id', flat=True))\n",
    "    for cluster_id in cluster_ids:\n",
    "        individual_cluster_farmer_count = FarmerClusterSeasonMap.objects.filter(season_id=3, cluster_id=cluster_id).count()\n",
    "        superviosr_id = UserClusterMap.objects.get(season_id=season_id, cluster_id=cluster_id, user__userprofile__user_type_id=5).user.id\n",
    "        individual_superviosr_farmer_count = UserFarmerMap.objects.filter(farmer__season_id=season_id, officer_id=superviosr_id).count()\n",
    "        mis_matched_farmer_count_differences = individual_cluster_farmer_count - individual_superviosr_farmer_count\n",
    "        if mis_matched_farmer_count_differences != 0:\n",
    "            print('===============')\n",
    "            print(individual_cluster_farmer_count, individual_superviosr_farmer_count)\n",
    "            print(Cluster.objects.get(id=cluster_id).name, cluster_id)\n",
    "            print(User.objects.get(id=superviosr_id).username, superviosr_id)\n",
    "            print('mis_matched_farmer_count_differences:', mis_matched_farmer_count_differences)\n",
    "check_individual_cluster_and_supervior_count()"
   ]
  },
  {
   "cell_type": "code",
   "execution_count": 145,
   "metadata": {},
   "outputs": [
    {
     "name": "stdout",
     "output_type": "stream",
     "text": [
      "To check individual superviosr and agent farmer count\n"
     ]
    }
   ],
   "source": [
    "# 5. To check individual superviosr and agent farmer count\n",
    "def check_individual_superviosr_and_agent_farmer_count():\n",
    "    print('To check individual superviosr and agent farmer count')\n",
    "    season_id =3\n",
    "    superviosr_ids = list(UserClusterMap.objects.filter(season_id=season_id, user__userprofile__user_type_id=5).values_list('user_id', flat=True))\n",
    "    for superviosr_id in superviosr_ids:\n",
    "        individual_superviosr_farmer_count = UserFarmerMap.objects.filter(farmer__season_id=season_id, officer_id=superviosr_id).count()\n",
    "        agent_ids = list(AgentSupervisorSeasonMap.objects.filter(season_id=season_id, supervisor_id=superviosr_id).values_list('agent_id', flat=True))\n",
    "        agent_farmer_count = AgentFarmerMap.objects.filter(farmer__season_id=season_id, agent_id__in=agent_ids).count()\n",
    "        mis_matched_farmer_count_differences = individual_superviosr_farmer_count - agent_farmer_count\n",
    "        if mis_matched_farmer_count_differences != 0:\n",
    "            print('value does not match',)\n",
    "check_individual_superviosr_and_agent_farmer_count()"
   ]
  },
  {
   "cell_type": "code",
   "execution_count": 146,
   "metadata": {},
   "outputs": [
    {
     "name": "stdout",
     "output_type": "stream",
     "text": [
      "To check agent and farmers are same cluster\n"
     ]
    }
   ],
   "source": [
    "# 6. To check agent and farmers are same cluster\n",
    "def check_agent_and_farmers_are_same_cluster():\n",
    "    print('To check agent and farmers are same cluster')\n",
    "    try:\n",
    "        agent_ids_obj = list(UserClusterMap.objects.filter(season_id=3, user__userprofile__user_type_id=6).values_list('user_id', flat=True))\n",
    "        temp_dict={}\n",
    "        for agent in agent_ids_obj:\n",
    "#             print(agent)\n",
    "            agent_cluster = UserClusterMap.objects.get(season_id=3, user_id=agent).cluster_id\n",
    "            farmer_ids_obj = list(AgentFarmerMap.objects.filter(agent_id=agent, farmer__season_id=3).values_list('farmer__farmer_id',flat=True))\n",
    "            for farmer in farmer_ids_obj:\n",
    "                farmer_cluster = FarmerClusterSeasonMap.objects.get(farmer_id=farmer, season_id=3).cluster_id\n",
    "                if agent_cluster != farmer_cluster:\n",
    "                    print('not matched')\n",
    "                    temp_dict['agent_id']=agent\n",
    "                    temp_dict['farmer_cluster_id']=farmer_cluster\n",
    "                    temp_dict['agent_cluster_id']=agent_cluster\n",
    "                    temp_dict['farmer_id']=farmer\n",
    "    except Exception as error:\n",
    "        print(error)\n",
    "check_agent_and_farmers_are_same_cluster()"
   ]
  },
  {
   "cell_type": "code",
   "execution_count": 143,
   "metadata": {},
   "outputs": [
    {
     "name": "stdout",
     "output_type": "stream",
     "text": [
      "To check superviosr and farmers are same cluster\n"
     ]
    }
   ],
   "source": [
    "# 7. To check superviosr and farmers are same cluster\n",
    "def check_superviosr_and_farmers_are_same_cluster():\n",
    "    print('To check superviosr and farmers are same cluster')\n",
    "    \n",
    "    superviosr_ids_obj = list(UserClusterMap.objects.filter(season_id=3, user__userprofile__user_type_id=5).values_list('user_id', flat=True))\n",
    "    temp_dict={}\n",
    "    for superviosr in superviosr_ids_obj:\n",
    "        superviosr_cluster = UserClusterMap.objects.get(season_id=3, user_id=superviosr).cluster_id\n",
    "        farmer_ids_obj = list(UserFarmerMap.objects.filter(officer_id=superviosr, farmer__season_id=3).values_list('farmer__farmer_id',flat=True))\n",
    "        for farmer in farmer_ids_obj:\n",
    "            farmer_cluster = FarmerClusterSeasonMap.objects.get(farmer_id=farmer, season_id=3).cluster_id\n",
    "            if superviosr_cluster != farmer_cluster:\n",
    "                temp_dict['superviosr_id']=superviosr\n",
    "                temp_dict['farmer_cluster_id']=farmer_cluster\n",
    "                temp_dict['superviosr_cluster_id']=superviosr_cluster\n",
    "                temp_dict['farmer_id']=farmer\n",
    "                print(temp_dict)                \n",
    "check_superviosr_and_farmers_are_same_cluster()"
   ]
  },
  {
   "cell_type": "code",
   "execution_count": 150,
   "metadata": {},
   "outputs": [
    {
     "name": "stdout",
     "output_type": "stream",
     "text": [
      "To check both agent and superviosr same cluster\n"
     ]
    }
   ],
   "source": [
    "# 8. To check both agent and superviosr same cluster\n",
    "def check_both_agent_and_superviosr_same_cluster():\n",
    "    print('To check both agent and superviosr same cluster')\n",
    "    try:\n",
    "        superviosr_ids_obj = list(UserClusterMap.objects.filter(season_id=3, user__userprofile__user_type_id=5).values_list('user_id', flat=True))\n",
    "        temp_dict={}\n",
    "\n",
    "        for superviosr in superviosr_ids_obj:\n",
    "            superviosr_cluster = UserClusterMap.objects.get(season_id=3, user_id=superviosr).cluster_id\n",
    "            agent_ids = list(AgentSupervisorSeasonMap.objects.filter(season_id=3, supervisor_id=superviosr).values_list('agent_id', flat=True))\n",
    "            for agent_id in agent_ids:\n",
    "                agent_cluster = UserClusterMap.objects.get(season_id=3, user_id=agent_id).cluster_id\n",
    "                if superviosr_cluster != agent_cluster:\n",
    "                    print('not matched')\n",
    "    except Exception as error:\n",
    "        print(error)\n",
    "check_both_agent_and_superviosr_same_cluster()"
   ]
  },
  {
   "cell_type": "code",
   "execution_count": 152,
   "metadata": {},
   "outputs": [
    {
     "name": "stdout",
     "output_type": "stream",
     "text": [
      "to check_seasonal_farmer_code\n"
     ]
    }
   ],
   "source": [
    "# 9. To check_seasonal_farmer_code\n",
    "def check_seasonal_farmer_code():\n",
    "    print('to check_seasonal_farmer_code')\n",
    "    try:\n",
    "        farmer_obj = FarmerClusterSeasonMap.objects.filter(season_id=3)\n",
    "\n",
    "        codes=[]\n",
    "        master_dict={}\n",
    "        for code in FarmerClusterSeasonMap.objects.filter(season_id=3):\n",
    "            farmer_code = code.seasonal_farmer_code\n",
    "\n",
    "            farmer_cluster_letter = FarmerClusterSeasonMap.objects.get(season_id=3, seasonal_farmer_code=farmer_code).cluster.name[:1]\n",
    "\n",
    "            cluster_id = FarmerClusterSeasonMap.objects.get(season_id=3, seasonal_farmer_code=farmer_code).cluster.id\n",
    "\n",
    "            farmer_supervisor_letter = UserClusterMap.objects.get(season=3, cluster_id=cluster_id, user__userprofile__user_type_id=5).user.username[:1]\n",
    "\n",
    "\n",
    "        #     farmer_supervisor_letter = UserFarmerMap.objects.get(farmer__season_id=3, farmer__seasonal_farmer_code=farmer_code).officer.username[:1]\n",
    "            agent_id = AgentFarmerMap.objects.get(farmer__seasonal_farmer_code=farmer_code).agent_id\n",
    "\n",
    "            farmer_unicode_letter = UserClusterMap.objects.get(season_id=3, user_id=agent_id).unique_code\n",
    "\n",
    "            gen_farmer_code_letters = farmer_cluster_letter.upper() + farmer_supervisor_letter.upper() + farmer_unicode_letter.upper()\n",
    "\n",
    "            split_from_farme_code = farmer_code[2:5]\n",
    "\n",
    "            if not gen_farmer_code_letters==split_from_farme_code:\n",
    "                print('not matched',farmer_code, gen_farmer_code_letters, split_from_farme_code)\n",
    "            codes.append(farmer_code)\n",
    "    except Exception as error:\n",
    "        print(error)\n",
    "check_seasonal_farmer_code()"
   ]
  },
  {
   "cell_type": "code",
   "execution_count": 157,
   "metadata": {},
   "outputs": [
    {
     "name": "stdout",
     "output_type": "stream",
     "text": [
      "To check farmer sowing count where farmer not in current season\n",
      "farmer_ids 5818\n",
      "{'area__sum': None}\n",
      "sowing_farmers_ids 0\n"
     ]
    }
   ],
   "source": [
    "# 10. To check farmer sowing count where farmer not in current season\n",
    "def farmer_sowing_count():\n",
    "    print('To check farmer sowing count where farmer not in current season')\n",
    "    farmer_ids = list(FarmerClusterSeasonMap.objects.exclude(season_id=3).values_list('farmer__id', flat=True))\n",
    "    farmer_ids\n",
    "    print('farmer_ids',len(farmer_ids))\n",
    "\n",
    "    sowing_farmers_ids = list(Sowing.objects.filter(season_id=3, farmer_id__in=farmer_ids).values_list('farmer__id', flat=True))\n",
    "    sowing_farmers_ids\n",
    "    print(Sowing.objects.filter(season_id=3, farmer_id__in=farmer_ids).aggregate(Sum('area')))\n",
    "    print('sowing_farmers_ids',len(sowing_farmers_ids))        \n",
    "    Sowing.objects.filter(season_id=3, farmer_id__in=farmer_ids).delete()\n",
    "farmer_sowing_count()"
   ]
  },
  {
   "cell_type": "code",
   "execution_count": 172,
   "metadata": {},
   "outputs": [
    {
     "name": "stdout",
     "output_type": "stream",
     "text": [
      "check aadhaar id profile matching\n"
     ]
    }
   ],
   "source": [
    "# 11. check aadhaar id profile matching\n",
    "def aadhaar_id_userprofile_count():\n",
    "    print('check aadhaar id profile matching')\n",
    "    aadhaar_ids = list(UserProfile.objects.exclude(aadhaar_number__isnull=True).exclude(aadhaar_number='11111111111').exclude(aadhaar_number='111111111111').values_list('aadhaar_number', flat=True))\n",
    "    aadhaar_ids\n",
    "\n",
    "    aadhaar_dict={}\n",
    "    for item in aadhaar_ids:\n",
    "        aadhaar_dict[item] = []\n",
    "        user_profile_obj = UserProfile.objects.filter(aadhaar_number=item)\n",
    "        for id in user_profile_obj:\n",
    "            aadhaar_dict[item].append(id.user.id)\n",
    "\n",
    "    for agent_id in aadhaar_dict.keys():\n",
    "        if len(aadhaar_dict[agent_id]) >= 2:\n",
    "            print('aadhaar_id:',agent_id,'=',aadhaar_dict[agent_id])\n",
    "aadhaar_id_userprofile_count()"
   ]
  },
  {
   "cell_type": "code",
   "execution_count": 159,
   "metadata": {},
   "outputs": [
    {
     "name": "stdout",
     "output_type": "stream",
     "text": [
      "To check one agent in multiple cluster\n"
     ]
    }
   ],
   "source": [
    "# 12. To check one agent in multiple cluster\n",
    "def check_one_agent_in_multiple_cluster():\n",
    "    print('To check one agent in multiple cluster')\n",
    "    agent_ids = list(set(UserClusterMap.objects.filter(season_id=3, user__userprofile__user_type_id=6).values_list('user_id', flat=True)))\n",
    "    # print(agent_ids)\n",
    "\n",
    "    temp={}\n",
    "    cluster_ids = list(ClusterSeasonMap.objects.filter(season_id=3).values_list('cluster_id', flat=True))\n",
    "    for agent_id in agent_ids:\n",
    "        agent_count = UserClusterMap.objects.filter(season_id=3, user_id=agent_id, cluster_id__in=cluster_ids).count()\n",
    "        if agent_count >= 2:\n",
    "            print('agent_count:',agent_count)\n",
    "            temp['agent_id']=agent_id\n",
    "            print(temp)    \n",
    "check_one_agent_in_multiple_cluster()"
   ]
  },
  {
   "cell_type": "code",
   "execution_count": 163,
   "metadata": {},
   "outputs": [
    {
     "name": "stdout",
     "output_type": "stream",
     "text": [
      "To check farmer id in UserFarmerMap\n"
     ]
    }
   ],
   "source": [
    "# 13. To check farmer id in UserFarmerMap\n",
    "def check_farmer_id_in_user_farmer_map():\n",
    "    print('To check farmer id in UserFarmerMap')\n",
    "    cluster_ids = list(ClusterSeasonMap.objects.filter(season_id=3).values_list('cluster_id', flat=True))\n",
    "    farmer_ids = list(FarmerClusterSeasonMap.objects.filter(season_id=3, cluster_id__in=cluster_ids).values_list('farmer_id', flat=True))\n",
    "    for farmer_id in farmer_ids:\n",
    "        if not UserFarmerMap.objects.filter(farmer__season_id=3, farmer__farmer_id=farmer_id).exists():\n",
    "            print('not found')\n",
    "check_farmer_id_in_user_farmer_map()"
   ]
  },
  {
   "cell_type": "code",
   "execution_count": 171,
   "metadata": {},
   "outputs": [
    {
     "data": {
      "text/plain": [
       "1"
      ]
     },
     "execution_count": 171,
     "metadata": {},
     "output_type": "execute_result"
    }
   ],
   "source": [
    "UserProfile.objects.filter(user_id=132).update(aadhaar_number='493985880044')"
   ]
  }
 ],
 "metadata": {
  "kernelspec": {
   "display_name": "Django Shell-Plus",
   "language": "python",
   "name": "django_extensions"
  },
  "language_info": {
   "codemirror_mode": {
    "name": "ipython",
    "version": 3
   },
   "file_extension": ".py",
   "mimetype": "text/x-python",
   "name": "python",
   "nbconvert_exporter": "python",
   "pygments_lexer": "ipython3",
   "version": "3.8.5"
  }
 },
 "nbformat": 4,
 "nbformat_minor": 4
}
