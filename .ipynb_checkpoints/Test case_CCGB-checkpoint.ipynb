{
 "cells": [
  {
   "cell_type": "markdown",
   "metadata": {},
   "source": [
    "# Test Case"
   ]
  },
  {
   "cell_type": "markdown",
   "metadata": {},
   "source": [
    "## Test case for combo issue"
   ]
  },
  {
   "cell_type": "code",
   "execution_count": null,
   "metadata": {},
   "outputs": [],
   "source": [
    "combo_issue_supervisor_id_obj = list(set(ComboIssueRequest.objects.all().values_list('supervisor_id', flat=True)))\n",
    "print(combo_issue_supervisor_id_obj)\n",
    "\n",
    "for supervisor_id in combo_issue_supervisor_id_obj:\n",
    "#     print(supervisor_id)\n",
    "    if UserHierarchyMap.objects.filter(subordinate=supervisor_id).exists():\n",
    "        superior_id = UserHierarchyMap.objects.get(subordinate=supervisor_id).superior_id\n",
    "        print(superior_id)\n",
    "    else:\n",
    "        if supervisor_id in (22,26):\n",
    "            superior_id = 25\n",
    "            print('changed')\n",
    "\n",
    "    combo_issue_request_supervisor_obj = ComboIssueRequest.objects.filter(supervisor_id=supervisor_id).exclude(senior_supervisor_id__isnull=True)\n",
    "    for combo_issue in combo_issue_request_supervisor_obj:\n",
    "        print(combo_issue.senior_supervisor_id)\n",
    "        if combo_issue.senior_supervisor_id == 79:\n",
    "            print('to change')\n",
    "            senior_superior_id = UserHierarchyMap.objects.get(subordinate=supervisor_id).superior_id\n",
    "            print('to change', senior_superior_id)\n",
    "            combo_issue.senior_supervisor_id = senior_superior_id\n",
    "            combo_issue.save()"
   ]
  },
  {
   "cell_type": "markdown",
   "metadata": {},
   "source": [
    "## check farmer code test case"
   ]
  },
  {
   "cell_type": "code",
   "execution_count": null,
   "metadata": {},
   "outputs": [],
   "source": [
    "farmer_obj = FarmerClusterSeasonMap.objects.filter(season_id=3)\n",
    "\n",
    "\n",
    "for code in FarmerClusterSeasonMap.objects.filter(season_id=3):\n",
    "    farmer_code = code.seasonal_farmer_code\n",
    "    \n",
    "    farmer_cluster_letter = FarmerClusterSeasonMap.objects.get(season_id=3, seasonal_farmer_code=farmer_code).cluster.name[:1]\n",
    "\n",
    "    farmer_supervisor_letter = UserFarmerMap.objects.get(farmer__season_id=3, farmer__seasonal_farmer_code=farmer_code).officer.username[:1]\n",
    "    agent_id = AgentFarmerMap.objects.get(farmer__seasonal_farmer_code=farmer_code).agent_id\n",
    "    \n",
    "    farmer_unicode_letter = UserClusterMap.objects.get(season_id=3, user_id=agent_id).unique_code\n",
    "\n",
    "    gen_farmer_code_letters = farmer_cluster_letter.upper() + farmer_supervisor_letter.upper() + farmer_unicode_letter.upper()\n",
    "\n",
    "    split_from_farme_code = farmer_code[2:5]\n",
    "\n",
    "    if not gen_farmer_code_letters==split_from_farme_code:\n",
    "        print('not matched',farmer_code, gen_farmer_code_letters, split_from_farme_code)\n",
    "        \n"
   ]
  },
  {
   "cell_type": "markdown",
   "metadata": {},
   "source": [
    "## To check Agent code"
   ]
  },
  {
   "cell_type": "code",
   "execution_count": null,
   "metadata": {},
   "outputs": [],
   "source": [
    "import pandas as pd\n",
    "\n",
    "code = list(UserProfile.objects.all().values_list('code',flat=True))\n",
    "\n",
    "dataframe1 = pd.read_excel('/home/steve/Downloads/seed_upload.xlsx') \n",
    "for index, row in dataframe1.iterrows():\n",
    "    agent_code = row['Agent Code']\n",
    "\n",
    "    if UserProfile.objects.filter(code = agent_code).exists():\n",
    "        print(agent_code)\n",
    "        agent_id = UserProfile.objects.get(code = agent_code).user_id\n",
    "        agent_name = UserProfile.objects.get(code = agent_code).user.first_name\n",
    "        print(agent_id)\n",
    "        print(agent_name)\n",
    "        print(row['Date'])\n",
    "        print(row['No of Packets 100'])\n",
    "        print('***********************************')"
   ]
  }
 ],
 "metadata": {
  "kernelspec": {
   "display_name": "Django Shell-Plus",
   "language": "python",
   "name": "django_extensions"
  },
  "language_info": {
   "codemirror_mode": {
    "name": "ipython",
    "version": 3
   },
   "file_extension": ".py",
   "mimetype": "text/x-python",
   "name": "python",
   "nbconvert_exporter": "python",
   "pygments_lexer": "ipython3",
   "version": "3.8.6"
  }
 },
 "nbformat": 4,
 "nbformat_minor": 4
}
