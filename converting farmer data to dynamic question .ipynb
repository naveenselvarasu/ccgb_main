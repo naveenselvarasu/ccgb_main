{
 "cells": [
  {
   "cell_type": "code",
   "execution_count": 7,
   "metadata": {},
   "outputs": [
    {
     "data": {
      "text/plain": [
       "2610"
      ]
     },
     "execution_count": 7,
     "metadata": {},
     "output_type": "execute_result"
    }
   ],
   "source": [
    "Farmer.objects.all().count()"
   ]
  },
  {
   "cell_type": "code",
   "execution_count": 1,
   "metadata": {},
   "outputs": [],
   "source": [
    "for farmer in Farmer.objects.filter(gender_id=1):\n",
    "    AnswerLogForDropDown.objects.create(\n",
    "        added_by=User.objects.get(id=1),\n",
    "        answer_id=1,\n",
    "        farmer=farmer,\n",
    "        question_id=1,        \n",
    "    )"
   ]
  },
  {
   "cell_type": "code",
   "execution_count": 36,
   "metadata": {},
   "outputs": [],
   "source": [
    "empty = []\n",
    "for farmer in AnswerLogForDropDown.objects.filter(question_id=1):\n",
    "    if farmer.id not in empty:\n",
    "        empty.append(farmer.id)\n",
    "    else:\n",
    "        print('exists')\n",
    "        print(farmer.id)\n",
    "        "
   ]
  },
  {
   "cell_type": "code",
   "execution_count": null,
   "metadata": {},
   "outputs": [],
   "source": []
  }
 ],
 "metadata": {
  "kernelspec": {
   "display_name": "Django Shell-Plus",
   "language": "python",
   "name": "django_extensions"
  },
  "language_info": {
   "codemirror_mode": {
    "name": "ipython",
    "version": 3
   },
   "file_extension": ".py",
   "mimetype": "text/x-python",
   "name": "python",
   "nbconvert_exporter": "python",
   "pygments_lexer": "ipython3",
   "version": "3.6.9"
  }
 },
 "nbformat": 4,
 "nbformat_minor": 4
}
