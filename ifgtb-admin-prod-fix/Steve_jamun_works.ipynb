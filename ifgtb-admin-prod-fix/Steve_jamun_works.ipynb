{
 "cells": [
  {
   "cell_type": "code",
   "execution_count": 1,
   "id": "literary-hammer",
   "metadata": {},
   "outputs": [
    {
     "data": {
      "text/plain": [
       "<QuerySet [<UserType: 1 - Farmer>, <UserType: 2 - Admin>, <UserType: 3 - QPM>, <UserType: 4 - Industry>, <UserType: 5 - Scientist>, <UserType: 6 - Forest>]>"
      ]
     },
     "execution_count": 1,
     "metadata": {},
     "output_type": "execute_result"
    }
   ],
   "source": [
    "UserType.objects.filter()"
   ]
  },
  {
   "cell_type": "code",
   "execution_count": 13,
   "id": "infrared-population",
   "metadata": {},
   "outputs": [
    {
     "data": {
      "text/plain": [
       "[45]"
      ]
     },
     "execution_count": 13,
     "metadata": {},
     "output_type": "execute_result"
    }
   ],
   "source": [
    "assigned_id_list = list(QueryExpertAssignMap.objects.filter().values_list('assigned_to_id', flat=True))\n",
    "assigned_id_list"
   ]
  },
  {
   "cell_type": "code",
   "execution_count": 15,
   "id": "greenhouse-yeast",
   "metadata": {},
   "outputs": [
    {
     "data": {
      "text/plain": [
       "[{'id': 46, 'scientist_name': 'ruban'}]"
      ]
     },
     "execution_count": 15,
     "metadata": {},
     "output_type": "execute_result"
    }
   ],
   "source": [
    "import pandas as pd\n",
    "\n",
    "scientist_obj = UserProfile.objects.filter(user_type=5).exclude(user_id__in=assigned_id_list).values_list('user_id', 'user__first_name')\n",
    "columns = [\"id\", \"scientist_name\"]\n",
    "scientist_df = pd.DataFrame(list(scientist_obj), columns=columns)\n",
    "scientist_list = scientist_df.to_dict('r')\n",
    "scientist_list \n",
    "\n"
   ]
  },
  {
   "cell_type": "code",
   "execution_count": 2,
   "id": "embedded-wheat",
   "metadata": {},
   "outputs": [
    {
     "name": "stdout",
     "output_type": "stream",
     "text": [
      "deleted\n"
     ]
    }
   ],
   "source": [
    "assigned_to = [45]\n",
    "user_query = 33\n",
    "assigned_by = 29\n",
    "QueryExpertAssignMap.objects.filter(user_query_id=user_query).delete()\n",
    "print('deleted')\n",
    "for item in assigned_to:\n",
    "    print(item)\n",
    "    query_expert_assign_map = QueryExpertAssignMap(\n",
    "                                user_query_id = user_query,\n",
    "                                assigned_to_id = item,\n",
    "                                assigned_by_id = assigned_by)\n",
    "    query_expert_assign_map.save()\n",
    "print('Assigned')"
   ]
  },
  {
   "cell_type": "code",
   "execution_count": 27,
   "id": "velvet-sampling",
   "metadata": {},
   "outputs": [
    {
     "name": "stdout",
     "output_type": "stream",
     "text": [
      "[45]\n"
     ]
    }
   ],
   "source": [
    "\n",
    "assigned_id_list = list(QueryExpertAssignMap.objects.filter().values_list('assigned_to_id', flat=True))\n",
    "scientist_obj = UserProfile.objects.filter(user_type=5)\n",
    "scientist_list = []\n",
    "for item in scientist_obj:\n",
    "    scientist_dict = {'id': item.user.id,\n",
    "                    'scientist_name': item.user.first_name,\n",
    "                    }\n",
    "    scientist_dict['assigned_id_list'] = assigned_id_list\n",
    "    scientist_list.append(scientis_dict)\n",
    "scientist_list\n",
    "print(scientist_dict['assigned_id_list'])\n"
   ]
  },
  {
   "cell_type": "code",
   "execution_count": 3,
   "id": "floating-investor",
   "metadata": {},
   "outputs": [
    {
     "data": {
      "text/plain": [
       "<QuerySet [<QueryExpertAssignMap: QueryExpertAssignMap object (11)>]>"
      ]
     },
     "execution_count": 3,
     "metadata": {},
     "output_type": "execute_result"
    }
   ],
   "source": [
    "asked_by =  \"ruban\"\n",
    "query = \"Working good\"\n",
    "query_id = 36\n",
    "# recommendation_array = undefined\n",
    "\n",
    "query_expert_assign_map = QueryExpertAssignMap.objects.filter(user_query_id=34)\n",
    "query_expert_assign_map\n"
   ]
  },
  {
   "cell_type": "code",
   "execution_count": 5,
   "id": "buried-intelligence",
   "metadata": {},
   "outputs": [
    {
     "data": {
      "text/plain": [
       "[55]"
      ]
     },
     "execution_count": 5,
     "metadata": {},
     "output_type": "execute_result"
    }
   ],
   "source": [
    "assigned_id_list = list(QueryExpertAssignMap.objects.filter(user_query_id=33).values_list('assigned_to_id', flat=True))\n",
    "assigned_id_list\n"
   ]
  },
  {
   "cell_type": "code",
   "execution_count": null,
   "id": "satellite-canvas",
   "metadata": {},
   "outputs": [],
   "source": [
    "assigned_to = [45, 46]\n",
    "user_query = 36\n",
    "\n",
    "removed_scientists = QueryExpertAssignMap.objects.filter(user_query=36)\n",
    "removed_scientists.delete()"
   ]
  },
  {
   "cell_type": "code",
   "execution_count": 1,
   "id": "local-chest",
   "metadata": {},
   "outputs": [],
   "source": [
    "d = {'a': 4,\n",
    "     'a': 3}"
   ]
  },
  {
   "cell_type": "code",
   "execution_count": 3,
   "id": "regular-wrong",
   "metadata": {},
   "outputs": [
    {
     "data": {
      "text/plain": [
       "3"
      ]
     },
     "execution_count": 3,
     "metadata": {},
     "output_type": "execute_result"
    }
   ],
   "source": [
    "d['a']"
   ]
  },
  {
   "cell_type": "code",
   "execution_count": null,
   "id": "different-laugh",
   "metadata": {},
   "outputs": [],
   "source": []
  },
  {
   "cell_type": "code",
   "execution_count": null,
   "id": "ordinary-salon",
   "metadata": {},
   "outputs": [],
   "source": []
  },
  {
   "cell_type": "code",
   "execution_count": null,
   "id": "aggressive-dealer",
   "metadata": {},
   "outputs": [],
   "source": []
  },
  {
   "cell_type": "code",
   "execution_count": null,
   "id": "guilty-female",
   "metadata": {},
   "outputs": [],
   "source": []
  },
  {
   "cell_type": "code",
   "execution_count": null,
   "id": "public-commonwealth",
   "metadata": {},
   "outputs": [],
   "source": []
  }
 ],
 "metadata": {
  "kernelspec": {
   "display_name": "Django Shell-Plus",
   "language": "python",
   "name": "django_extensions"
  },
  "language_info": {
   "codemirror_mode": {
    "name": "ipython",
    "version": 3
   },
   "file_extension": ".py",
   "mimetype": "text/x-python",
   "name": "python",
   "nbconvert_exporter": "python",
   "pygments_lexer": "ipython3",
   "version": "3.9.7"
  }
 },
 "nbformat": 4,
 "nbformat_minor": 5
}
