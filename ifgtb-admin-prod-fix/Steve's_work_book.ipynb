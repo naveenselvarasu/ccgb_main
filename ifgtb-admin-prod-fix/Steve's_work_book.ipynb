{
 "cells": [
  {
   "cell_type": "code",
   "execution_count": 68,
   "id": "aquatic-sound",
   "metadata": {},
   "outputs": [
    {
     "data": {
      "text/plain": [
       "{'user_types': [{'id': 3, 'type': 'QPM'},\n",
       "  {'id': 4, 'type': 'Industry'},\n",
       "  {'id': 5, 'type': 'Scientist'}],\n",
       " 'user_types_details': {3: [{'office_id': 1, 'office_name': 'TAMARAI'},\n",
       "   {'office_id': 2, 'office_name': 'Malar'}],\n",
       "  4: [{'office_id': 2, 'office_name': 'kultivate software'},\n",
       "   {'office_id': 3, 'office_name': 'Taj woods'},\n",
       "   {'office_id': 4, 'office_name': 'kultivate software'}],\n",
       "  5: [{'office_id': 2, 'office_name': 'IFGTB'}]}}"
      ]
     },
     "execution_count": 68,
     "metadata": {},
     "output_type": "execute_result"
    }
   ],
   "source": [
    "import pandas as pd\n",
    "\n",
    "type_ids = [3,4,5]\n",
    "master_dict = {}\n",
    "user_list = []\n",
    "final_dict = {}\n",
    "\n",
    "user_type_obj = UserType.objects.filter(id__in=type_ids)\n",
    "type_list = []\n",
    "\n",
    "for item in user_type_obj:\n",
    "    user_type = {\n",
    "        'id': item.id,\n",
    "        'type': item.name\n",
    "        }\n",
    "    type_list.append(user_type)\n",
    "    \n",
    "    if not item.id in master_dict:\n",
    "        master_dict[item.id] = []\n",
    "        \n",
    "        if item.id == 3:  #QPM\n",
    "            nursery_obj = NurseryOffice.objects.filter().values_list('id', 'nursery__name')\n",
    "            nursery_columns = ['office_id', 'office_name']\n",
    "            nursery_df = pd.DataFrame(list(nursery_obj), columns=nursery_columns)\n",
    "            nursery_list = nursery_df.to_dict('r')\n",
    "            master_dict[item.id] = nursery_list\n",
    "            \n",
    "        elif item.id == 4:  #IndustryOffice\n",
    "            industry_obj = IndustryOffice.objects.filter().values_list('id', 'industry__name')\n",
    "            industry_columns = ['office_id', 'office_name']\n",
    "            industry_df = pd.DataFrame(list(industry_obj), columns=industry_columns)\n",
    "            industry_list = industry_df.to_dict('r')\n",
    "            master_dict[item.id] = industry_list\n",
    "        \n",
    "        elif item.id == 5:  #InstituteOffice\n",
    "            institute_obj = InstituteOffice.objects.filter().values_list('id', 'institute__name')\n",
    "            institute_columns = ['office_id', 'office_name']\n",
    "            institute_df = pd.DataFrame(list(institute_obj), columns=institute_columns)\n",
    "            institute_list = institute_df.to_dict('r')\n",
    "            master_dict[item.id] = institute_list\n",
    "            \n",
    "    final_dict['user_types'] = type_list\n",
    "    final_dict['user_types_details'] = master_dict\n",
    "    \n",
    "\n",
    "final_dict\n"
   ]
  },
  {
   "cell_type": "code",
   "execution_count": 5,
   "id": "smaller-cream",
   "metadata": {},
   "outputs": [
    {
     "name": "stdout",
     "output_type": "stream",
     "text": [
      "user saved\n",
      "user_profile saved\n",
      "surveyor_official_map_saved\n"
     ]
    }
   ],
   "source": [
    "from django.contrib.auth.models import User\n",
    "from django.contrib.auth.hashers import make_password\n",
    "first_name = \"steve\"\n",
    "last_name =  \"sur\"\n",
    "mobile = 1132556852\n",
    "office_id = 1\n",
    "superior_user_type =  3\n",
    "user_type_id = 7\n",
    "added_by_id = 1\n",
    "\n",
    "user = User.objects.create(\n",
    "        first_name=first_name,\n",
    "        last_name=last_name,\n",
    "        username=mobile,\n",
    "        password=make_password('1234')\n",
    "    )\n",
    "user.save()\n",
    "print('user saved')\n",
    "\n",
    "user_profile = UserProfile.objects.create(\n",
    "    user_id=user.id,\n",
    "    user_type_id=user_type_id,\n",
    "    mobile=mobile,\n",
    "    added_by_id = added_by_id\n",
    ")\n",
    "user_profile.save()\n",
    "print('user_profile saved')\n",
    "\n",
    "\n"
   ]
  },
  {
   "cell_type": "code",
   "execution_count": 15,
   "id": "disciplinary-cedar",
   "metadata": {},
   "outputs": [
    {
     "name": "stdout",
     "output_type": "stream",
     "text": [
      "qpm\n",
      "surveyor_official_saved\n"
     ]
    }
   ],
   "source": [
    "superior_user_type =  3\n",
    "office_id = 1\n",
    "\n",
    "if superior_user_type == 3:\n",
    "    print('qpm')\n",
    "    surveyor_official_map = SurveyorOfficialMap.objects.create(\n",
    "                            surveyor_id = 57,\n",
    "                            superior_user_type_id = superior_user_type,\n",
    "                            nursery_office_id = office_id)\n",
    "    surveyor_official_map.save()\n",
    "    print('surveyor_official_saved')\n",
    "elif superior_user_type == 4:\n",
    "    print('industry_office')\n",
    "    surveyor_official_map = SurveyorOfficialMap.objects.create(\n",
    "                            surveyor_id = 57,\n",
    "                            superior_user_type_id = superior_user_type,\n",
    "                            industry_office_id = office_id)\n",
    "    surveyor_official_map.save()\n",
    "    print('surveyor_official_saved')\n",
    "elif superior_user_type == 5:\n",
    "    print('inistitute_office')\n",
    "    surveyor_official_map = SurveyorOfficialMap.objects.create(\n",
    "                            surveyor_id = 57,\n",
    "                            superior_user_type_id = superior_user_type,\n",
    "                            institute_office_id = office_id)\n",
    "    surveyor_official_map.save()\n",
    "    print('surveyor_official_saved')\n",
    "else:\n",
    "    print('no_value_found_in_tabe')"
   ]
  },
  {
   "cell_type": "code",
   "execution_count": 33,
   "id": "lasting-medline",
   "metadata": {},
   "outputs": [
    {
     "data": {
      "text/html": [
       "<div>\n",
       "<style scoped>\n",
       "    .dataframe tbody tr th:only-of-type {\n",
       "        vertical-align: middle;\n",
       "    }\n",
       "\n",
       "    .dataframe tbody tr th {\n",
       "        vertical-align: top;\n",
       "    }\n",
       "\n",
       "    .dataframe thead th {\n",
       "        text-align: right;\n",
       "    }\n",
       "</style>\n",
       "<table border=\"1\" class=\"dataframe\">\n",
       "  <thead>\n",
       "    <tr style=\"text-align: right;\">\n",
       "      <th></th>\n",
       "      <th>surveyor_id</th>\n",
       "      <th>surveyou_name</th>\n",
       "      <th>industry_office_name</th>\n",
       "      <th>institute_office_name</th>\n",
       "      <th>nursery_office_name</th>\n",
       "    </tr>\n",
       "  </thead>\n",
       "  <tbody>\n",
       "    <tr>\n",
       "      <th>0</th>\n",
       "      <td>57</td>\n",
       "      <td>steve</td>\n",
       "      <td>-</td>\n",
       "      <td>-</td>\n",
       "      <td>-</td>\n",
       "    </tr>\n",
       "    <tr>\n",
       "      <th>1</th>\n",
       "      <td>57</td>\n",
       "      <td>steve</td>\n",
       "      <td>-</td>\n",
       "      <td>-</td>\n",
       "      <td>-</td>\n",
       "    </tr>\n",
       "    <tr>\n",
       "      <th>2</th>\n",
       "      <td>57</td>\n",
       "      <td>steve</td>\n",
       "      <td>-</td>\n",
       "      <td>-</td>\n",
       "      <td>-</td>\n",
       "    </tr>\n",
       "    <tr>\n",
       "      <th>3</th>\n",
       "      <td>57</td>\n",
       "      <td>steve</td>\n",
       "      <td>-</td>\n",
       "      <td>-</td>\n",
       "      <td>TAMARAI</td>\n",
       "    </tr>\n",
       "    <tr>\n",
       "      <th>4</th>\n",
       "      <td>58</td>\n",
       "      <td>rubn</td>\n",
       "      <td>Taj woods</td>\n",
       "      <td>-</td>\n",
       "      <td>-</td>\n",
       "    </tr>\n",
       "    <tr>\n",
       "      <th>5</th>\n",
       "      <td>59</td>\n",
       "      <td>ef</td>\n",
       "      <td>-</td>\n",
       "      <td>-</td>\n",
       "      <td>Malar</td>\n",
       "    </tr>\n",
       "    <tr>\n",
       "      <th>6</th>\n",
       "      <td>60</td>\n",
       "      <td>ffef</td>\n",
       "      <td>-</td>\n",
       "      <td>-</td>\n",
       "      <td>Malar</td>\n",
       "    </tr>\n",
       "    <tr>\n",
       "      <th>7</th>\n",
       "      <td>63</td>\n",
       "      <td>rdetre</td>\n",
       "      <td>-</td>\n",
       "      <td>-</td>\n",
       "      <td>Malar</td>\n",
       "    </tr>\n",
       "  </tbody>\n",
       "</table>\n",
       "</div>"
      ],
      "text/plain": [
       "   surveyor_id  ... nursery_office_name\n",
       "0           57  ...                   -\n",
       "1           57  ...                   -\n",
       "2           57  ...                   -\n",
       "3           57  ...             TAMARAI\n",
       "4           58  ...                   -\n",
       "5           59  ...               Malar\n",
       "6           60  ...               Malar\n",
       "7           63  ...               Malar\n",
       "\n",
       "[8 rows x 5 columns]"
      ]
     },
     "execution_count": 33,
     "metadata": {},
     "output_type": "execute_result"
    }
   ],
   "source": [
    "surveyor_df"
   ]
  },
  {
   "cell_type": "code",
   "execution_count": 37,
   "id": "binding-offset",
   "metadata": {
    "scrolled": true
   },
   "outputs": [
    {
     "data": {
      "text/html": [
       "<div>\n",
       "<style scoped>\n",
       "    .dataframe tbody tr th:only-of-type {\n",
       "        vertical-align: middle;\n",
       "    }\n",
       "\n",
       "    .dataframe tbody tr th {\n",
       "        vertical-align: top;\n",
       "    }\n",
       "\n",
       "    .dataframe thead th {\n",
       "        text-align: right;\n",
       "    }\n",
       "</style>\n",
       "<table border=\"1\" class=\"dataframe\">\n",
       "  <thead>\n",
       "    <tr style=\"text-align: right;\">\n",
       "      <th></th>\n",
       "      <th>office_names</th>\n",
       "      <th>surveyor_name</th>\n",
       "    </tr>\n",
       "  </thead>\n",
       "  <tbody>\n",
       "    <tr>\n",
       "      <th>0</th>\n",
       "      <td>TAMARAI</td>\n",
       "      <td>steve</td>\n",
       "    </tr>\n",
       "    <tr>\n",
       "      <th>1</th>\n",
       "      <td>Taj woods</td>\n",
       "      <td>rubn</td>\n",
       "    </tr>\n",
       "    <tr>\n",
       "      <th>2</th>\n",
       "      <td>Malar</td>\n",
       "      <td>ef</td>\n",
       "    </tr>\n",
       "    <tr>\n",
       "      <th>3</th>\n",
       "      <td>Malar</td>\n",
       "      <td>ffef</td>\n",
       "    </tr>\n",
       "    <tr>\n",
       "      <th>4</th>\n",
       "      <td>Malar</td>\n",
       "      <td>rdetre</td>\n",
       "    </tr>\n",
       "  </tbody>\n",
       "</table>\n",
       "</div>"
      ],
      "text/plain": [
       "  office_names surveyor_name\n",
       "0      TAMARAI         steve\n",
       "1    Taj woods          rubn\n",
       "2        Malar            ef\n",
       "3        Malar          ffef\n",
       "4        Malar        rdetre"
      ]
     },
     "execution_count": 37,
     "metadata": {},
     "output_type": "execute_result"
    }
   ],
   "source": [
    "import pandas as pd\n",
    "\n",
    "office_name = []\n",
    "surveyor_name = []\n",
    "temp_dict = {}\n",
    "surveyor_official_map_obj = SurveyorOfficialMap.objects.filter().values_list('surveyor_id', 'surveyor__first_name', 'industry_office__industry__name', 'institute_office__institute__name', 'nursery_office__nursery__name')\n",
    "columns = [\"surveyou_name\", \"industry_office_name\", \"institute_office_name\", \"nursery_office_name\"]\n",
    "surveyor_df = pd.DataFrame(list(surveyor_official_map_obj), columns=columns)\n",
    "\n",
    "for index, row in surveyor_df.iterrows():\n",
    "    if not row['industry_office_name'] == None:\n",
    "        office_name.append(row['industry_office_name'])\n",
    "        surveyor_name.append(row['surveyou_name'])\n",
    "    elif not row['institute_office_name'] == None:\n",
    "        office_name.append(row['institute_office_name'])\n",
    "        surveyor_name.append(row['surveyou_name'])\n",
    "    elif not row['nursery_office_name'] == None:\n",
    "        office_name.append(row['nursery_office_name'])\n",
    "        surveyor_name.append(row['surveyou_name'])\n",
    "temp_dict['office_names'] = temp\n",
    "temp_dict['surveyor_names'] = name\n",
    "df = pd.DataFrame(temp_dict)\n",
    "df"
   ]
  },
  {
   "cell_type": "code",
   "execution_count": 6,
   "id": "sorted-cookie",
   "metadata": {},
   "outputs": [
    {
     "name": "stdout",
     "output_type": "stream",
     "text": [
      "2\n"
     ]
    }
   ],
   "source": [
    "mobile = 8529637410\n",
    "if not User.objects.filter(username=mobile).exists():\n",
    "        user = User.objects.create(\n",
    "                first_name=first_name,\n",
    "                last_name=last_name,\n",
    "                username=mobile,\n",
    "                password=make_password('1234')\n",
    "            )\n",
    "        user.save()\n",
    "        print('user saved')\n",
    "else:\n",
    "    print(2)"
   ]
  },
  {
   "cell_type": "code",
   "execution_count": 40,
   "id": "mysterious-underground",
   "metadata": {},
   "outputs": [
    {
     "data": {
      "text/html": [
       "<div>\n",
       "<style scoped>\n",
       "    .dataframe tbody tr th:only-of-type {\n",
       "        vertical-align: middle;\n",
       "    }\n",
       "\n",
       "    .dataframe tbody tr th {\n",
       "        vertical-align: top;\n",
       "    }\n",
       "\n",
       "    .dataframe thead th {\n",
       "        text-align: right;\n",
       "    }\n",
       "</style>\n",
       "<table border=\"1\" class=\"dataframe\">\n",
       "  <thead>\n",
       "    <tr style=\"text-align: right;\">\n",
       "      <th></th>\n",
       "      <th>surveyor_id</th>\n",
       "      <th>surveyou_first_name</th>\n",
       "      <th>surveyou_last_name</th>\n",
       "      <th>mobile</th>\n",
       "      <th>superior_user_type</th>\n",
       "      <th>industry_office_id</th>\n",
       "      <th>industry_office_name</th>\n",
       "      <th>institute_id</th>\n",
       "      <th>institute_office_name</th>\n",
       "      <th>nursery_id</th>\n",
       "      <th>nursery_office_name</th>\n",
       "    </tr>\n",
       "  </thead>\n",
       "  <tbody>\n",
       "    <tr>\n",
       "      <th>0</th>\n",
       "      <td>57</td>\n",
       "      <td>steve</td>\n",
       "      <td>sur</td>\n",
       "      <td>1132556852</td>\n",
       "      <td>3</td>\n",
       "      <td>NaN</td>\n",
       "      <td>None</td>\n",
       "      <td>None</td>\n",
       "      <td>None</td>\n",
       "      <td>NaN</td>\n",
       "      <td>None</td>\n",
       "    </tr>\n",
       "    <tr>\n",
       "      <th>1</th>\n",
       "      <td>57</td>\n",
       "      <td>steve</td>\n",
       "      <td>sur</td>\n",
       "      <td>1132556852</td>\n",
       "      <td>3</td>\n",
       "      <td>NaN</td>\n",
       "      <td>None</td>\n",
       "      <td>None</td>\n",
       "      <td>None</td>\n",
       "      <td>NaN</td>\n",
       "      <td>None</td>\n",
       "    </tr>\n",
       "    <tr>\n",
       "      <th>2</th>\n",
       "      <td>57</td>\n",
       "      <td>steve</td>\n",
       "      <td>sur</td>\n",
       "      <td>1132556852</td>\n",
       "      <td>3</td>\n",
       "      <td>NaN</td>\n",
       "      <td>None</td>\n",
       "      <td>None</td>\n",
       "      <td>None</td>\n",
       "      <td>NaN</td>\n",
       "      <td>None</td>\n",
       "    </tr>\n",
       "    <tr>\n",
       "      <th>3</th>\n",
       "      <td>57</td>\n",
       "      <td>steve</td>\n",
       "      <td>sur</td>\n",
       "      <td>1132556852</td>\n",
       "      <td>3</td>\n",
       "      <td>NaN</td>\n",
       "      <td>None</td>\n",
       "      <td>None</td>\n",
       "      <td>None</td>\n",
       "      <td>1.0</td>\n",
       "      <td>TAMARAI</td>\n",
       "    </tr>\n",
       "    <tr>\n",
       "      <th>4</th>\n",
       "      <td>58</td>\n",
       "      <td>rubn</td>\n",
       "      <td>sureve</td>\n",
       "      <td>8974561230</td>\n",
       "      <td>4</td>\n",
       "      <td>3.0</td>\n",
       "      <td>Taj woods</td>\n",
       "      <td>None</td>\n",
       "      <td>None</td>\n",
       "      <td>NaN</td>\n",
       "      <td>None</td>\n",
       "    </tr>\n",
       "    <tr>\n",
       "      <th>5</th>\n",
       "      <td>59</td>\n",
       "      <td>ef</td>\n",
       "      <td>asfs</td>\n",
       "      <td>1234567890</td>\n",
       "      <td>3</td>\n",
       "      <td>NaN</td>\n",
       "      <td>None</td>\n",
       "      <td>None</td>\n",
       "      <td>None</td>\n",
       "      <td>2.0</td>\n",
       "      <td>Malar</td>\n",
       "    </tr>\n",
       "    <tr>\n",
       "      <th>6</th>\n",
       "      <td>60</td>\n",
       "      <td>ffef</td>\n",
       "      <td>ew</td>\n",
       "      <td>9876543222</td>\n",
       "      <td>3</td>\n",
       "      <td>NaN</td>\n",
       "      <td>None</td>\n",
       "      <td>None</td>\n",
       "      <td>None</td>\n",
       "      <td>2.0</td>\n",
       "      <td>Malar</td>\n",
       "    </tr>\n",
       "    <tr>\n",
       "      <th>7</th>\n",
       "      <td>63</td>\n",
       "      <td>rdetre</td>\n",
       "      <td>retre</td>\n",
       "      <td>8529637415</td>\n",
       "      <td>3</td>\n",
       "      <td>NaN</td>\n",
       "      <td>None</td>\n",
       "      <td>None</td>\n",
       "      <td>None</td>\n",
       "      <td>2.0</td>\n",
       "      <td>Malar</td>\n",
       "    </tr>\n",
       "  </tbody>\n",
       "</table>\n",
       "</div>"
      ],
      "text/plain": [
       "   surveyor_id  ... nursery_office_name\n",
       "0           57  ...                None\n",
       "1           57  ...                None\n",
       "2           57  ...                None\n",
       "3           57  ...             TAMARAI\n",
       "4           58  ...                None\n",
       "5           59  ...               Malar\n",
       "6           60  ...               Malar\n",
       "7           63  ...               Malar\n",
       "\n",
       "[8 rows x 11 columns]"
      ]
     },
     "execution_count": 40,
     "metadata": {},
     "output_type": "execute_result"
    }
   ],
   "source": [
    "surveyor_official_map_obj = SurveyorOfficialMap.objects.filter().values_list('surveyor', 'surveyor__first_name', 'surveyor__last_name', 'surveyor__username','superior_user_type_id', 'industry_office','industry_office__industry__name', 'institute_office_id','institute_office__institute__name', \"nursery_office\",'nursery_office__nursery__name')\n",
    "columns = [\"surveyor_id\", \"surveyou_first_name\", 'surveyou_last_name', \"mobile\", \"superior_user_type\", \"industry_office_id\", \"industry_office_name\", \"institute_id\",\"institute_office_name\", \"nursery_id\",\"nursery_office_name\"]\n",
    "surveyor_df = pd.DataFrame(list(surveyor_official_map_obj), columns=columns)\n",
    "surveyor_df"
   ]
  },
  {
   "cell_type": "code",
   "execution_count": 48,
   "id": "critical-order",
   "metadata": {
    "scrolled": true
   },
   "outputs": [
    {
     "name": "stdout",
     "output_type": "stream",
     "text": [
      "57\n"
     ]
    },
    {
     "name": "stderr",
     "output_type": "stream",
     "text": [
      "/home/steve/Software/virtualenv/jamun/lib/python3.9/site-packages/pandas/core/frame.py:1549: FutureWarning: Using short name for 'orient' is deprecated. Only the options: ('dict', list, 'series', 'split', 'records', 'index') will be used in a future version. Use one of the above to silence this warning.\n",
      "  warnings.warn(\n"
     ]
    },
    {
     "data": {
      "text/plain": [
       "{'surveyor': 57,\n",
       " 'superior_user_type': 3,\n",
       " 'industry_office': None,\n",
       " 'institute_office': None,\n",
       " 'nursery_office': 1}"
      ]
     },
     "execution_count": 48,
     "metadata": {},
     "output_type": "execute_result"
    }
   ],
   "source": [
    "mobile = 1132556852\n",
    "temp_dict = {}\n",
    "user_id = User.objects.get(username=1132556852).id\n",
    "print(user_id)\n",
    "surveyor_official_map_obj = SurveyorOfficialMap.objects.filter(surveyor__username=mobile).values_list('surveyor', 'superior_user_type', 'industry_office', 'institute_office', 'nursery_office')\n",
    "df = pd.DataFrame(list(surveyor_official_map_obj), columns=[\"surveyor\", \"superior_user_type\", \"industry_office\", \"institute_office\", \"nursery_office\"])\n",
    "to_edit_dict = df.to_dict('r')[0]\n",
    "to_edit_dict"
   ]
  },
  {
   "cell_type": "code",
   "execution_count": 39,
   "id": "macro-torture",
   "metadata": {
    "scrolled": true
   },
   "outputs": [
    {
     "name": "stdout",
     "output_type": "stream",
     "text": [
      "yes\n",
      "names_updated\n",
      "surveyor_official_saved\n"
     ]
    }
   ],
   "source": [
    "first_name = \"ruban\"\n",
    "last_name = \"steve\"\n",
    "mobile = \"1234567890\"\n",
    "office_id = 3\n",
    "superior_user_type =4\n",
    "surveyor_id = 100\n",
    "\n",
    "\n",
    "if User.objects.filter(id=surveyor_id).exists():\n",
    "    print('yes')\n",
    "    User.objects.filter(id=surveyor_id).update(\n",
    "                    first_name=first_name,\n",
    "                    last_name=last_name)\n",
    "    print('names_updated')\n",
    "    SurveyorOfficialMap.objects.filter(surveyor_id=surveyor_id).update(\n",
    "    nursery_office_id = None,\n",
    "    industry_office_id = None,\n",
    "    institute_office_id = None)\n",
    "   \n",
    "    if superior_user_type == 3:\n",
    "        surveyor_official_map = SurveyorOfficialMap.objects.filter(surveyor_id=surveyor_id).update(\n",
    "                                nursery_office_id = office_id)\n",
    "        print('surveyor_official_saved')\n",
    "        data = {'status':'Surveyor Updated Sucessfully'}\n",
    "    elif superior_user_type == 4:\n",
    "        surveyor_official_map = SurveyorOfficialMap.objects.filter(surveyor_id=surveyor_id).update(\n",
    "                                industry_office_id = office_id)\n",
    "        print('surveyor_official_saved')\n",
    "        data = {'status':'Surveyor Updated Sucessfully'}\n",
    "    elif superior_user_type == 5:\n",
    "        surveyor_official_map = SurveyorOfficialMap.objects.filter(surveyor_id=surveyor_id).update(\n",
    "                                institute_office_id = office_id)\n",
    "        print('surveyor_official_saved')\n",
    "        data = {'status':'Surveyor Updated Sucessfully'}\n",
    "   \n",
    "else:\n",
    "    data = {'status':'Create a new surveyor'} \n"
   ]
  },
  {
   "cell_type": "code",
   "execution_count": 5,
   "id": "disciplinary-orchestra",
   "metadata": {},
   "outputs": [],
   "source": [
    "import pandas as pd\n",
    "surveyor_official_map_obj = SurveyorOfficialMap.objects.filter(surveyor_id=103).values_list('surveyor', 'surveyor__first_name', 'surveyor__last_name', 'surveyor__username','superior_user_type_id','superior_user_type__name', 'industry_office','industry_office__industry__name', 'institute_office_id','institute_office__institute__name', \"nursery_office\",'nursery_office__nursery__name')\n",
    "columns = [\"surveyor_id\", \"surveyor_first_name\", 'surveyor_last_name', \"mobile\", \"superior_user_type\",\"superior_user_type_name\", \"industry_office_id\", \"industry_office_name\", \"institute_id\",\"institute_office_name\", \"nursery_id\",\"nursery_office_name\"]\n",
    "surveyor_df = pd.DataFrame(list(surveyor_official_map_obj), columns=columns)\n",
    "surveyor_df = surveyor_df.fillna(0)\n",
    "surveyor_df['office_id'] = None\n",
    "surveyor_df['office_name'] = None\n",
    "user_type_name = UserProfile.objects.get(user_id=103).user_type.name\n",
    "surveyor_df['user_type_name'] = user_type_name\n",
    "\n",
    "for index, row in surveyor_df.iterrows():\n",
    "    if row['superior_user_type'] == 3:\n",
    "        surveyor_df.at[index, 'office_id'] = row['nursery_id']\n",
    "        surveyor_df.at[index, 'office_name'] = row['nursery_office_name']\n",
    "    elif row['superior_user_type'] == 4:\n",
    "        surveyor_df.at[index, 'office_id'] = row['industry_office_id']\n",
    "        surveyor_df.at[index, 'office_name'] = row['industry_office_name']\n",
    "    elif row['superior_user_type'] == 5:\n",
    "        surveyor_df.at[index, 'office_id'] = row['institute_id']\n",
    "        surveyor_df.at[index, 'office_name'] = row['institute_office_name']\n",
    "surveyor_list = surveyor_df.to_dict('r')[0]"
   ]
  },
  {
   "cell_type": "code",
   "execution_count": 6,
   "id": "complicated-nudist",
   "metadata": {},
   "outputs": [
    {
     "data": {
      "text/plain": [
       "{'surveyor_id': 103,\n",
       " 'surveyor_first_name': 'steve',\n",
       " 'surveyor_last_name': 'ruban',\n",
       " 'mobile': '2587946102',\n",
       " 'superior_user_type': 4,\n",
       " 'superior_user_type_name': 'Industry',\n",
       " 'industry_office_id': 3,\n",
       " 'industry_office_name': 'Taj woods',\n",
       " 'institute_id': 0,\n",
       " 'institute_office_name': 0,\n",
       " 'nursery_id': 0,\n",
       " 'nursery_office_name': 0,\n",
       " 'office_id': 3,\n",
       " 'office_name': 'Taj woods',\n",
       " 'user_type_name': 'Survey Officers'}"
      ]
     },
     "execution_count": 6,
     "metadata": {},
     "output_type": "execute_result"
    }
   ],
   "source": [
    "surveyor_list"
   ]
  },
  {
   "cell_type": "code",
   "execution_count": 5,
   "id": "accessory-colombia",
   "metadata": {},
   "outputs": [
    {
     "data": {
      "text/plain": [
       "<QuerySet []>"
      ]
     },
     "execution_count": 5,
     "metadata": {},
     "output_type": "execute_result"
    }
   ],
   "source": [
    "surveyou_obj = SurveyorOfficialMap.objects.filter(surveyor_id=103)\n",
    "surveyou_obj\n",
    "\n",
    "farmer_count_under_surveyor = UserProfile.objects.filter(user_id=104, user_type_id=1)\n",
    "farmer_count_under_surveyor"
   ]
  },
  {
   "cell_type": "code",
   "execution_count": null,
   "id": "connected-picking",
   "metadata": {},
   "outputs": [],
   "source": []
  },
  {
   "cell_type": "code",
   "execution_count": null,
   "id": "strange-omega",
   "metadata": {},
   "outputs": [],
   "source": []
  },
  {
   "cell_type": "code",
   "execution_count": null,
   "id": "regulation-fifteen",
   "metadata": {},
   "outputs": [],
   "source": []
  },
  {
   "cell_type": "code",
   "execution_count": null,
   "id": "native-studio",
   "metadata": {},
   "outputs": [],
   "source": []
  },
  {
   "cell_type": "code",
   "execution_count": null,
   "id": "coordinated-income",
   "metadata": {},
   "outputs": [],
   "source": []
  },
  {
   "cell_type": "code",
   "execution_count": null,
   "id": "ranging-wisdom",
   "metadata": {},
   "outputs": [],
   "source": []
  },
  {
   "cell_type": "code",
   "execution_count": null,
   "id": "herbal-permit",
   "metadata": {},
   "outputs": [],
   "source": []
  },
  {
   "cell_type": "code",
   "execution_count": 1,
   "id": "legislative-collect",
   "metadata": {},
   "outputs": [
    {
     "data": {
      "text/plain": [
       "1"
      ]
     },
     "execution_count": 1,
     "metadata": {},
     "output_type": "execute_result"
    }
   ],
   "source": [
    "surveyor_id = 104\n",
    "farmer_obj = UserProfile.objects.filter(user_type_id=1, user_id=105).count()\n",
    "farmer_obj"
   ]
  },
  {
   "cell_type": "code",
   "execution_count": null,
   "id": "answering-community",
   "metadata": {},
   "outputs": [],
   "source": [
    "'surveyor', 'surveyor__first_name', 'surveyor__last_name', 'surveyor__username','superior_user_type_id','superior_user_type__name', 'industry_office','industry_office__industry__name', 'institute_office_id','institute_office__institute__name', \"nursery_office\",'nursery_office__nursery__name'"
   ]
  },
  {
   "cell_type": "code",
   "execution_count": null,
   "id": "usual-resort",
   "metadata": {},
   "outputs": [],
   "source": [
    "\"surveyor_id\", \"surveyor_first_name\", 'surveyor_last_name', \"mobile\", \"superior_user_type\",\"superior_user_type_name\", \"industry_office_id\", \"industry_office_name\", \"institute_id\",\"institute_office_name\", \"nursery_id\",\"nursery_office_name\""
   ]
  },
  {
   "cell_type": "code",
   "execution_count": null,
   "id": "supported-blanket",
   "metadata": {},
   "outputs": [],
   "source": []
  },
  {
   "cell_type": "code",
   "execution_count": null,
   "id": "interior-silicon",
   "metadata": {},
   "outputs": [],
   "source": []
  },
  {
   "cell_type": "code",
   "execution_count": null,
   "id": "human-footage",
   "metadata": {},
   "outputs": [],
   "source": []
  },
  {
   "cell_type": "code",
   "execution_count": null,
   "id": "chicken-location",
   "metadata": {},
   "outputs": [],
   "source": []
  },
  {
   "cell_type": "code",
   "execution_count": null,
   "id": "continued-zambia",
   "metadata": {},
   "outputs": [],
   "source": []
  },
  {
   "cell_type": "code",
   "execution_count": null,
   "id": "wanted-plane",
   "metadata": {},
   "outputs": [],
   "source": []
  },
  {
   "cell_type": "code",
   "execution_count": null,
   "id": "every-opinion",
   "metadata": {},
   "outputs": [],
   "source": []
  },
  {
   "cell_type": "code",
   "execution_count": null,
   "id": "consolidated-thermal",
   "metadata": {},
   "outputs": [],
   "source": []
  }
 ],
 "metadata": {
  "kernelspec": {
   "display_name": "Django Shell-Plus",
   "language": "python",
   "name": "django_extensions"
  },
  "language_info": {
   "codemirror_mode": {
    "name": "ipython",
    "version": 3
   },
   "file_extension": ".py",
   "mimetype": "text/x-python",
   "name": "python",
   "nbconvert_exporter": "python",
   "pygments_lexer": "ipython3",
   "version": "3.9.7"
  }
 },
 "nbformat": 4,
 "nbformat_minor": 5
}
