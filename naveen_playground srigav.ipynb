{
 "cells": [
  {
   "cell_type": "markdown",
   "id": "enormous-broadcast",
   "metadata": {},
   "source": [
    "# srigavuyum"
   ]
  },
  {
   "cell_type": "raw",
   "id": "arctic-boundary",
   "metadata": {},
   "source": [
    "ProductAvailability.objects.all().values()\n",
    "DeliveryTime.objects.get(product_id=15,)"
   ]
  },
  {
   "cell_type": "code",
   "execution_count": 7,
   "id": "fleet-joining",
   "metadata": {},
   "outputs": [
    {
     "data": {
      "text/plain": [
       "<DeliveryTime: 25 - Pannai_new -home - chicken  - 10.00 am - 6.00 pm>"
      ]
     },
     "execution_count": 7,
     "metadata": {},
     "output_type": "execute_result"
    }
   ],
   "source": [
    "DeliveryTime.objects.get(product_id=15, vertical_id=1)"
   ]
  },
  {
   "cell_type": "code",
   "execution_count": 4,
   "id": "recreational-carpet",
   "metadata": {},
   "outputs": [
    {
     "data": {
      "text/plain": [
       "1"
      ]
     },
     "execution_count": 4,
     "metadata": {},
     "output_type": "execute_result"
    }
   ],
   "source": [
    "DeliveryTime.objects.get(product_id=15).vertical_id\n"
   ]
  },
  {
   "cell_type": "code",
   "execution_count": 1,
   "id": "certified-interpretation",
   "metadata": {},
   "outputs": [
    {
     "name": "stdout",
     "output_type": "stream",
     "text": [
      "<QuerySet [<DeliveryTime: 25 - Pannai_new -home - chicken  - 10.00 am - 6.00 pm>]>\n",
      "['home']\n",
      "home\n",
      "home\n"
     ]
    }
   ],
   "source": [
    "obj = DeliveryTime.objects.filter(product_id =15)\n",
    "obj1 = list(DeliveryTime.objects.filter(product_id =15).values_list('vertical__name', flat=True))\n",
    "obj2 = DeliveryTime.objects.get(product_id=15).vertical.name\n",
    "print(obj)\n",
    "# print(obj.vertical.name)\n",
    "print(obj1)\n",
    "print(obj2)\n",
    "\n",
    "for i in obj:\n",
    "    print(i.vertical.name)"
   ]
  },
  {
   "cell_type": "code",
   "execution_count": 21,
   "id": "instructional-routine",
   "metadata": {},
   "outputs": [
    {
     "name": "stdout",
     "output_type": "stream",
     "text": [
      "{'name': 'naveen', 'age': 24}\n",
      "{'age': 23, 'D_O_B': '12-12-1999'}\n",
      "naveen\n",
      "naveen\n"
     ]
    }
   ],
   "source": [
    "\n",
    "# obj = request.data.get(\"name\",False)\n",
    "data = {\"field1\":\n",
    "        {\"name\": \"naveen\",\"age\":24},\n",
    "        \"field2\":{\"age\": 23,\"D_O_B\": \"12-12-1999\"}}\n",
    "# obj = data.get(\"name\",\"age\",False)\n",
    "\n",
    "obj = data.get(\"field1\",False)\n",
    "print(obj)\n",
    "\n",
    "obj1 = data.get(\"field2\",False)\n",
    "print(obj1)\n",
    "\n",
    "obj2 = data.get(\"field1\").get(\"name\",False)\n",
    "print(obj2)\n",
    "\n",
    "obj3 = data[\"field1\"][\"name\"]\n",
    "\n",
    "print(obj3)\n",
    "\n"
   ]
  },
  {
   "cell_type": "code",
   "execution_count": 59,
   "id": "fitted-webcam",
   "metadata": {},
   "outputs": [
    {
     "ename": "RelatedObjectDoesNotExist",
     "evalue": "DeliveryTime has no product.",
     "output_type": "error",
     "traceback": [
      "\u001b[0;31m---------------------------------------------------------------------------\u001b[0m",
      "\u001b[0;31mRelatedObjectDoesNotExist\u001b[0m                 Traceback (most recent call last)",
      "\u001b[0;32m<ipython-input-59-7a2d9bded936>\u001b[0m in \u001b[0;36m<module>\u001b[0;34m\u001b[0m\n\u001b[1;32m      1\u001b[0m \u001b[0mobj\u001b[0m \u001b[0;34m=\u001b[0m  \u001b[0mDeliveryTime\u001b[0m\u001b[0;34m.\u001b[0m\u001b[0mobjects\u001b[0m\u001b[0;34m.\u001b[0m\u001b[0mget\u001b[0m\u001b[0;34m(\u001b[0m\u001b[0mproduct_id\u001b[0m\u001b[0;34m=\u001b[0m\u001b[0;36m14\u001b[0m\u001b[0;34m)\u001b[0m\u001b[0;34m.\u001b[0m\u001b[0mvertical\u001b[0m\u001b[0;34m.\u001b[0m\u001b[0mname\u001b[0m\u001b[0;34m\u001b[0m\u001b[0;34m\u001b[0m\u001b[0m\n\u001b[1;32m      2\u001b[0m \u001b[0;32mif\u001b[0m \u001b[0mDeliveryTime\u001b[0m\u001b[0;34m(\u001b[0m\u001b[0mvertical_id\u001b[0m\u001b[0;34m=\u001b[0m\u001b[0;36m1\u001b[0m\u001b[0;34m)\u001b[0m\u001b[0;34m:\u001b[0m\u001b[0;34m\u001b[0m\u001b[0;34m\u001b[0m\u001b[0m\n\u001b[0;32m----> 3\u001b[0;31m     \u001b[0mprint\u001b[0m\u001b[0;34m(\u001b[0m\u001b[0mob\u001b[0m\u001b[0;34m)\u001b[0m\u001b[0;34m\u001b[0m\u001b[0;34m\u001b[0m\u001b[0m\n\u001b[0m\u001b[1;32m      4\u001b[0m \u001b[0mobj\u001b[0m\u001b[0;34m\u001b[0m\u001b[0;34m\u001b[0m\u001b[0m\n\u001b[1;32m      5\u001b[0m \u001b[0mobj1\u001b[0m \u001b[0;34m=\u001b[0m \u001b[0mProduct\u001b[0m\u001b[0;34m.\u001b[0m\u001b[0mobjects\u001b[0m\u001b[0;34m.\u001b[0m\u001b[0mget\u001b[0m\u001b[0;34m(\u001b[0m\u001b[0mshort_name\u001b[0m\u001b[0;34m=\u001b[0m\u001b[0;34m\"Milk\"\u001b[0m\u001b[0;34m)\u001b[0m\u001b[0;34m.\u001b[0m\u001b[0mcontainer\u001b[0m\u001b[0;34m.\u001b[0m\u001b[0mname\u001b[0m\u001b[0;34m\u001b[0m\u001b[0;34m\u001b[0m\u001b[0m\n",
      "\u001b[0;32m~/Software/srigauvyum-admin/main/models.py\u001b[0m in \u001b[0;36m__str__\u001b[0;34m(self)\u001b[0m\n\u001b[1;32m    105\u001b[0m     \u001b[0;32mdef\u001b[0m \u001b[0m__str__\u001b[0m\u001b[0;34m(\u001b[0m\u001b[0mself\u001b[0m\u001b[0;34m)\u001b[0m\u001b[0;34m:\u001b[0m\u001b[0;34m\u001b[0m\u001b[0;34m\u001b[0m\u001b[0m\n\u001b[1;32m    106\u001b[0m         return '{} - {} -{} - {} - {}'.format(self.id, self.vertical.business.name, self.vertical.name,\n\u001b[0;32m--> 107\u001b[0;31m                                               self.product.name, self.name)\n\u001b[0m\u001b[1;32m    108\u001b[0m \u001b[0;34m\u001b[0m\u001b[0m\n\u001b[1;32m    109\u001b[0m         \u001b[0;31m#  Remove it\u001b[0m\u001b[0;34m\u001b[0m\u001b[0;34m\u001b[0m\u001b[0;34m\u001b[0m\u001b[0m\n",
      "\u001b[0;32m~/Software/virtualenv/srigav/lib/python3.8/site-packages/django/db/models/fields/related_descriptors.py\u001b[0m in \u001b[0;36m__get__\u001b[0;34m(self, instance, cls)\u001b[0m\n\u001b[1;32m    195\u001b[0m \u001b[0;34m\u001b[0m\u001b[0m\n\u001b[1;32m    196\u001b[0m         \u001b[0;32mif\u001b[0m \u001b[0mrel_obj\u001b[0m \u001b[0;32mis\u001b[0m \u001b[0;32mNone\u001b[0m \u001b[0;32mand\u001b[0m \u001b[0;32mnot\u001b[0m \u001b[0mself\u001b[0m\u001b[0;34m.\u001b[0m\u001b[0mfield\u001b[0m\u001b[0;34m.\u001b[0m\u001b[0mnull\u001b[0m\u001b[0;34m:\u001b[0m\u001b[0;34m\u001b[0m\u001b[0;34m\u001b[0m\u001b[0m\n\u001b[0;32m--> 197\u001b[0;31m             raise self.RelatedObjectDoesNotExist(\n\u001b[0m\u001b[1;32m    198\u001b[0m                 \u001b[0;34m\"%s has no %s.\"\u001b[0m \u001b[0;34m%\u001b[0m \u001b[0;34m(\u001b[0m\u001b[0mself\u001b[0m\u001b[0;34m.\u001b[0m\u001b[0mfield\u001b[0m\u001b[0;34m.\u001b[0m\u001b[0mmodel\u001b[0m\u001b[0;34m.\u001b[0m\u001b[0m__name__\u001b[0m\u001b[0;34m,\u001b[0m \u001b[0mself\u001b[0m\u001b[0;34m.\u001b[0m\u001b[0mfield\u001b[0m\u001b[0;34m.\u001b[0m\u001b[0mname\u001b[0m\u001b[0;34m)\u001b[0m\u001b[0;34m\u001b[0m\u001b[0;34m\u001b[0m\u001b[0m\n\u001b[1;32m    199\u001b[0m             )\n",
      "\u001b[0;31mRelatedObjectDoesNotExist\u001b[0m: DeliveryTime has no product."
     ]
    }
   ],
   "source": [
    "obj =  DeliveryTime.objects.get(product_id=14).vertical.name\n",
    "obj\n",
    "obj1 = Product.objects.get(short_name=\"Milk\").container.name\n",
    "print(obj1)"
   ]
  },
  {
   "cell_type": "code",
   "execution_count": 6,
   "id": "lesser-despite",
   "metadata": {},
   "outputs": [
    {
     "data": {
      "text/plain": [
       "<Product: 1 - Pannai_new - Native breed cow Milk - 001>"
      ]
     },
     "execution_count": 6,
     "metadata": {},
     "output_type": "execute_result"
    }
   ],
   "source": [
    "obj = Product.objects.get(id=1)\n",
    "obj"
   ]
  },
  {
   "cell_type": "code",
   "execution_count": 16,
   "id": "divided-volume",
   "metadata": {},
   "outputs": [
    {
     "data": {
      "text/plain": [
       "<QuerySet [<Product: 4 - Pannai_new - Free range Country chicken - 1000 gm - 004>, <Product: 8 - Pannai_new - Free range Country chicken - 300 gm - 006>, <Product: 9 - Pannai_new - Free range Country chicken - 500 gm - 007>, <Product: 11 - Pannai_new - potato - NPOT>, <Product: 13 - Pannai_new - tomato  - TMT>]>"
      ]
     },
     "execution_count": 16,
     "metadata": {},
     "output_type": "execute_result"
    }
   ],
   "source": [
    "Product.objects.filter(price__gte=50).order_by(\"id\")"
   ]
  },
  {
   "cell_type": "code",
   "execution_count": 19,
   "id": "indonesian-briefing",
   "metadata": {},
   "outputs": [
    {
     "data": {
      "text/plain": [
       "<QuerySet [<Product: 1 - Pannai_new - Native breed cow Milk - 001>, <Product: 2 - Pannai_new - Native breed Cow Milk Ghee - 002>, <Product: 3 - Pannai_new - Native Breed Cow Milk Powder - 003>, <Product: 5 - Pannai_new - Free range  country chicken eggs - 005>, <Product: 4 - Pannai_new - Free range Country chicken - 1000 gm - 004>, <Product: 8 - Pannai_new - Free range Country chicken - 300 gm - 006>, <Product: 9 - Pannai_new - Free range Country chicken - 500 gm - 007>, <Product: 10 - Pannai_new - testname - test123>, <Product: 13 - Pannai_new - tomato  - TMT>, <Product: 14 - Pannai_new - onion - ON>, <Product: 12 - Pannai_new -  - >, <Product: 11 - Pannai_new - potato - NPOT>, <Product: 15 - Pannai_new - chicken  - 0013222022>]>"
      ]
     },
     "execution_count": 19,
     "metadata": {},
     "output_type": "execute_result"
    }
   ],
   "source": [
    "Product.objects.all()"
   ]
  },
  {
   "cell_type": "code",
   "execution_count": 61,
   "id": "amber-suspension",
   "metadata": {},
   "outputs": [
    {
     "name": "stdout",
     "output_type": "stream",
     "text": [
      "16.47\n",
      "out of range\n"
     ]
    }
   ],
   "source": [
    "import time\n",
    "time_of_hour = time.strftime(\"%H.%M\")\n",
    "time=float(time_of_hour)\n",
    "print(time)\n",
    "\n",
    "if (8.30 <= time <= 14):\n",
    "    print(\"run\")\n",
    "else:\n",
    "    print(\"out of range\")\n",
    "\n",
    "\n"
   ]
  },
  {
   "cell_type": "code",
   "execution_count": 4,
   "id": "significant-procurement",
   "metadata": {},
   "outputs": [
    {
     "name": "stdout",
     "output_type": "stream",
     "text": [
      "100 50\n"
     ]
    }
   ],
   "source": [
    "total_cost = 100\n",
    "wallet = 150\n",
    "wallet -= total_cost\n",
    "\n",
    "print(total_cost,wallet)\n"
   ]
  },
  {
   "cell_type": "code",
   "execution_count": 17,
   "id": "tender-webster",
   "metadata": {},
   "outputs": [
    {
     "name": "stdout",
     "output_type": "stream",
     "text": [
      "                   a         b         c         d         e\n",
      "2022-03-12  0.069990  2.169132  0.007377 -0.231600 -0.033017\n",
      "2022-03-13 -0.193482 -1.831068 -0.586485 -0.378151  0.262763\n",
      "2022-03-14 -1.128597 -0.202982 -1.312844  0.112819 -0.422030\n",
      "2022-03-15  1.130710 -0.901897  2.245705  2.124105 -0.687860\n",
      "2022-03-16 -0.916883 -0.901878 -0.716725 -0.565254  1.077532\n",
      "2022-03-17 -1.008468  1.026441 -0.872794  1.366765 -1.026057\n",
      "2022-03-18  0.556491 -0.623198 -0.458571  0.716280 -0.597450\n",
      "2022-03-19 -1.317049  1.591319 -1.386716 -0.205078 -0.330844\n",
      "2022-03-20  0.285951 -1.088852  0.282082 -1.578808  1.158309\n",
      "2022-03-21 -0.196402  1.209151 -0.171957  0.173598  0.959722\n"
     ]
    },
    {
     "data": {
      "text/plain": [
       "DatetimeIndex(['2022-03-12', '2022-03-13', '2022-03-14', '2022-03-15',\n",
       "               '2022-03-16', '2022-03-17', '2022-03-18', '2022-03-19',\n",
       "               '2022-03-20', '2022-03-21'],\n",
       "              dtype='datetime64[ns]', freq='D')"
      ]
     },
     "execution_count": 17,
     "metadata": {},
     "output_type": "execute_result"
    }
   ],
   "source": [
    "import pandas as pd\n",
    "import numpy as np\n",
    "\n",
    "s = pd.Series([1,2,3,4,5,np.nan,6])\n",
    "d = pd .date_range(\"20220312\",periods=10)\n",
    "df = pd.DataFrame(np.random.randn(10,5),index=d,columns=[\"a\",\"b\",\"c\",\"d\",\"e\"])\n",
    "print(df)\n",
    "d"
   ]
  },
  {
   "cell_type": "code",
   "execution_count": 18,
   "id": "second-religion",
   "metadata": {},
   "outputs": [
    {
     "data": {
      "text/plain": [
       "0    1.0\n",
       "1    2.0\n",
       "2    3.0\n",
       "3    4.0\n",
       "4    5.0\n",
       "5    NaN\n",
       "6    6.0\n",
       "dtype: float64"
      ]
     },
     "execution_count": 18,
     "metadata": {},
     "output_type": "execute_result"
    }
   ],
   "source": [
    "s\n"
   ]
  },
  {
   "cell_type": "code",
   "execution_count": 50,
   "id": "selective-medline",
   "metadata": {},
   "outputs": [
    {
     "data": {
      "text/plain": [
       "2"
      ]
     },
     "execution_count": 50,
     "metadata": {},
     "output_type": "execute_result"
    }
   ],
   "source": [
    "c = 5\n",
    "r = 3\n",
    "Array = [ [i] * c for i in range(r) ]\n",
    "Array\n",
    "a = [[0,1,[2,3,4]], [0, 0, 0, 0], [1, 1, 1, 1, 1], [2, 2, 2, 2, 2]]\n",
    "a[0][2][0]"
   ]
  },
  {
   "cell_type": "code",
   "execution_count": 69,
   "id": "handed-wallpaper",
   "metadata": {},
   "outputs": [
    {
     "data": {
      "text/plain": [
       "24"
      ]
     },
     "execution_count": 69,
     "metadata": {},
     "output_type": "execute_result"
    }
   ],
   "source": [
    "user_type = UserTypeUserMap.objects.get(user=24).user.id\n",
    "user_type"
   ]
  },
  {
   "cell_type": "code",
   "execution_count": 56,
   "id": "supreme-jones",
   "metadata": {},
   "outputs": [
    {
     "name": "stdout",
     "output_type": "stream",
     "text": [
      "(0, 'eat')\n",
      "(1, 'sleep')\n",
      "(2, 'repeat')\n",
      "1000 eat\n",
      "1000\n",
      "1001 sleep\n",
      "1001\n",
      "1002 repeat\n",
      "1002\n",
      "0\n",
      "eat\n",
      "1\n",
      "sleep\n",
      "2\n",
      "repeat\n"
     ]
    }
   ],
   "source": [
    "# Python program to illustrate\n",
    "# enumerate function in loops\n",
    "l1 = [\"eat\", \"sleep\", \"repeat\"]\n",
    "\n",
    "# printing the tuples in object directly\n",
    "for ele in enumerate(l1):\n",
    "\tprint (ele)\n",
    "\n",
    "# changing index and printing separately\n",
    "for count, ele in enumerate(l1, 1000):\n",
    "    print (count, ele)\n",
    "    print(count)\n",
    "# getting desired output from tuple\n",
    "for count, ele in enumerate(l1):\n",
    "    print(count)\n",
    "    print(ele)\n",
    "\n"
   ]
  },
  {
   "cell_type": "markdown",
   "id": "later-liverpool",
   "metadata": {},
   "source": [
    "# series"
   ]
  },
  {
   "cell_type": "code",
   "execution_count": 1,
   "id": "adaptive-childhood",
   "metadata": {},
   "outputs": [
    {
     "name": "stdout",
     "output_type": "stream",
     "text": [
      "1    p\n",
      "2    a\n",
      "3    n\n",
      "4    d\n",
      "5    a\n",
      "6    s\n",
      "dtype: object\n",
      "name    Naveen\n",
      "age         23\n",
      "sex       male\n",
      "dtype: object\n",
      "1     naveen\n",
      "2     naveen\n",
      "3     naveen\n",
      "45    naveen\n",
      "dtype: object\n",
      "name    Naveen\n",
      "age         23\n",
      "sex       male\n",
      "dtype: object\n",
      "Naveen\n",
      "Naveen\n",
      "Int64Index([1, 2, 3, 4], dtype='int64')\n",
      "Index(['a', 'b', 'c'], dtype='object')\n",
      "int64 dtype\n",
      "4\n",
      "3\n",
      "0         naveen\n",
      "1          vijay\n",
      "2           viky\n",
      "3    navaneethan\n",
      "4          surya\n",
      "5       semmalai\n",
      "6              2\n",
      "7            234\n",
      "dtype: object this is size: 8\n",
      "(4,) (3,) (8,)\n",
      "1\n",
      "64 a: 32\n",
      "False False True\n",
      "True False False\n",
      "4 3\n",
      "3 3\n",
      "0    Core\n",
      "1     NaN\n",
      "2     NaN\n",
      "3     NaN\n",
      "dtype: object\n",
      "0    I like Java\n",
      "1       I like C\n",
      "2     I like C++\n",
      "3            NaN\n",
      "dtype: object\n"
     ]
    },
    {
     "name": "stderr",
     "output_type": "stream",
     "text": [
      "<ipython-input-1-ed21f856b14a>:53: DeprecationWarning: The default dtype for empty Series will be 'object' instead of 'float64' in a future version. Specify a dtype explicitly to silence this warning.\n",
      "  c=pd.Series()\n"
     ]
    }
   ],
   "source": [
    "import pandas as pd\n",
    "import numpy as np\n",
    "# dict\n",
    "info_dict= {\"name\": \"Naveen\" , 'age': 23, 'sex': \"male\"}  \n",
    "#array\n",
    "info =np.array([\"p\",\"a\",\"n\",\"d\",\"a\",\"s\"])\n",
    "#scalar\n",
    "\n",
    "inf = pd.Series(\"naveen\",index=[1,2,3,45])\n",
    "\n",
    "pandas =pd.Series(info,index=[1,2,3,4,5,6])\n",
    "\n",
    "pan = pd.Series(info_dict)\n",
    "\n",
    "print(pandas)\n",
    "print(pan)\n",
    "print(inf)\n",
    "\n",
    "\n",
    "#accessing data \n",
    "\n",
    "access = pd.Series([\"Naveen\",23,\"male\"],index=[\"name\",\"age\",\"sex\"])\n",
    "print(access)\n",
    "print(access[0])\n",
    "print(access[\"name\"])\n",
    "\n",
    "\n",
    "x=pd.Series(data=[2,4,6,8],index=[1,2,3,4])   \n",
    "y=pd.Series(data=[11.2,18.6,22.5], index=['a','b','c'])  \n",
    "w = pd.Series([\"naveen\",\"vijay\",'viky',\"navaneethan\",\"surya\",\"semmalai\",2,234])\n",
    "\n",
    "#index\n",
    "print(x.index)\n",
    "print(y.index)\n",
    "#dtype\n",
    "print(x.dtype,\"dtype\")\n",
    "# size\n",
    "print(x.size)\n",
    "print(access.size)\n",
    "print(w,\"this is size:\",w.size)\n",
    "#shape\n",
    "\n",
    "print(x.shape,y.shape,w.shape)\n",
    "\n",
    "#Dimension and Number of bytes:\n",
    "\n",
    "print(w.ndim)\n",
    "print(w.nbytes,\"a:\",x.nbytes)\n",
    "\n",
    "#Checking Emptiness and Presence of NaNs\n",
    "a=pd.Series(data=[1,2,3,np.NaN])   \n",
    "b=pd.Series(data=[4.9,8.2,5.6],index=['x','y','z'])   \n",
    "c=pd.Series()   \n",
    "print(a.empty,b.empty,c.empty)   \n",
    "print(a.hasnans,b.hasnans,c.hasnans)   \n",
    "print(len(a),len(b))   \n",
    "print(a.count( ),b.count( )) \n",
    "\n",
    "\n",
    "\n",
    "\n",
    "#map\n",
    "\n",
    "a = pd.Series(['Java', 'C', 'C++', np.nan])  \n",
    "print(a.map({'Java': 'Core'}))  \n",
    "print(a.map('I like {}'.format, na_action='ignore')  )"
   ]
  },
  {
   "cell_type": "markdown",
   "id": "dried-linux",
   "metadata": {},
   "source": [
    "#  dataframe "
   ]
  },
  {
   "cell_type": "code",
   "execution_count": 71,
   "id": "satisfied-defendant",
   "metadata": {},
   "outputs": [
    {
     "data": {
      "text/html": [
       "<div>\n",
       "<style scoped>\n",
       "    .dataframe tbody tr th:only-of-type {\n",
       "        vertical-align: middle;\n",
       "    }\n",
       "\n",
       "    .dataframe tbody tr th {\n",
       "        vertical-align: top;\n",
       "    }\n",
       "\n",
       "    .dataframe thead th {\n",
       "        text-align: right;\n",
       "    }\n",
       "</style>\n",
       "<table border=\"1\" class=\"dataframe\">\n",
       "  <thead>\n",
       "    <tr style=\"text-align: right;\">\n",
       "      <th></th>\n",
       "      <th>name</th>\n",
       "    </tr>\n",
       "  </thead>\n",
       "  <tbody>\n",
       "    <tr>\n",
       "      <th>1</th>\n",
       "      <td>naveen</td>\n",
       "    </tr>\n",
       "    <tr>\n",
       "      <th>2</th>\n",
       "      <td>vijay</td>\n",
       "    </tr>\n",
       "  </tbody>\n",
       "</table>\n",
       "</div>"
      ],
      "text/plain": [
       "     name\n",
       "1  naveen\n",
       "2   vijay"
      ]
     },
     "execution_count": 71,
     "metadata": {},
     "output_type": "execute_result"
    }
   ],
   "source": [
    "name =[\"naveen\",\"vijay\"]\n",
    "res = pd.DataFrame(name,index=[1,2],columns=[\"name\"])\n",
    "res"
   ]
  },
  {
   "cell_type": "code",
   "execution_count": 17,
   "id": "gentle-electron",
   "metadata": {},
   "outputs": [
    {
     "name": "stdout",
     "output_type": "stream",
     "text": [
      "this is 10\n",
      "start\n",
      "this is not 10\n"
     ]
    }
   ],
   "source": [
    "def name(number):\n",
    "    if number==10:\n",
    "        return \"this is 10\"\n",
    "    else:\n",
    "        return \"this is not 10\"\n",
    "        \n",
    "print(name(10))\n",
    "\n",
    "def another():\n",
    "    print(\"start\")\n",
    "    nav = name(100)\n",
    "    print(nav)\n",
    "    \n",
    "another()"
   ]
  }
 ],
 "metadata": {
  "kernelspec": {
   "display_name": "Django Shell-Plus",
   "language": "python",
   "name": "django_extensions"
  },
  "language_info": {
   "codemirror_mode": {
    "name": "ipython",
    "version": 3
   },
   "file_extension": ".py",
   "mimetype": "text/x-python",
   "name": "python",
   "nbconvert_exporter": "python",
   "pygments_lexer": "ipython3",
   "version": "3.8.10"
  }
 },
 "nbformat": 4,
 "nbformat_minor": 5
}
